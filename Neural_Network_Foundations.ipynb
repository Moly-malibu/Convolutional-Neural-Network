{
  "nbformat": 4,
  "nbformat_minor": 0,
  "metadata": {
    "kernelspec": {
      "display_name": "U4-S1-NLP (Python3)",
      "language": "python",
      "name": "u4-s1-nlp"
    },
    "language_info": {
      "codemirror_mode": {
        "name": "ipython",
        "version": 3
      },
      "file_extension": ".py",
      "mimetype": "text/x-python",
      "name": "python",
      "nbconvert_exporter": "python",
      "pygments_lexer": "ipython3",
      "version": "3.7.0"
    },
    "nteract": {
      "version": "0.22.4"
    },
    "colab": {
      "name": "Neural Network Foundations.ipynb",
      "provenance": [],
      "collapsed_sections": [],
      "include_colab_link": true
    }
  },
  "cells": [
    {
      "cell_type": "markdown",
      "metadata": {
        "id": "view-in-github",
        "colab_type": "text"
      },
      "source": [
        "<a href=\"https://colab.research.google.com/github/Moly-malibu/Convolutional-Neural-Network/blob/main/Neural_Network_Foundations.ipynb\" target=\"_parent\"><img src=\"https://colab.research.google.com/assets/colab-badge.svg\" alt=\"Open In Colab\"/></a>"
      ]
    },
    {
      "cell_type": "markdown",
      "metadata": {
        "id": "yYJfDz7PwCa5"
      },
      "source": [
        "Neural Network Foundations\n",
        "\n",
        "Table of Problems\n",
        "\n",
        "1. [Defining Neural Networks](#Q1)\n",
        "2. [Simple Perceptron](#Q2)\n",
        "    - Perceptron\n",
        "    - Multilayer Perceptron\n",
        "    - Analyze and Compare\n",
        "4. [Keras MMP](#Q3)"
      ]
    },
    {
      "cell_type": "markdown",
      "metadata": {
        "id": "td--G_mMwCa8"
      },
      "source": [
        "<a id=\"Q1\"></a>\n",
        "## 1. Defining Neural Networks \n",
        "\n",
        "Write *your own* definitions for the following terms:\n",
        "\n",
        "- **Neuron:**\n",
        "- **Input Layer:**\n",
        "- **Hidden Layer:**\n",
        "- **Output Layer:**\n",
        "- **Activation Function:**"
      ]
    },
    {
      "cell_type": "markdown",
      "metadata": {
        "id": "HgloFHUVwCa9"
      },
      "source": [
        "## Neuron\n",
        "\n",
        "\"An artificial neuron (also referred to as a perceptron) is a mathematical function. It takes one or more inputs that are multiplied by values called “weights” and added together. This value is then passed to a non-linear function, known as an activation function, to become the neuron’s output\". \n",
        "\n",
        "Neurons receive inputs, passing their signal (if activated) to the next layer if a certain threshold is reached.\n",
        "\n",
        "## Input Layer: or Visible Layer: receives input dataset.\n",
        "\n",
        "*Containt all the neurons that accept input for processing(1 neuron per feature)\n",
        "\n",
        "*Process inputs into a format the hidden layers can use.\n",
        "\n",
        "*inputs/features/columns of our dataset that will be passed to the network. \n",
        "\n",
        "The features being fed into the neural network.\n",
        "\n",
        "## Hidden Layer: or Hidden Layers because they cannot be accessed except through the input layer.\n",
        "\n",
        "*It can be more than 1.\n",
        "\n",
        "*Transforms information from the input layer into a format the output layer can use.\n",
        "\n",
        "*Brain of the neural network.\n",
        "\n",
        "*Maps inputs to outputs\n",
        "\n",
        "The hidden layer can be made up of multiple layers and is where most of the variation in architecture of an NN occurs. Intermediary nodes adjusted by weights.\n",
        "\n",
        "## Output Layer: is the final layer and to output a vector of values.\n",
        "\n",
        "*accepts processed data from hidden layers, scales/transforms/converts it into desired output format.\n",
        "\n",
        "*NNs applied to a regression problem, single output node\n",
        "\n",
        "*NNS applied to a binary classification problem, use a sigmoid function, function in order to squishify values down to represent a probability.\n",
        "\n",
        "*NNS applied to multiclass classification problems,multiple output nodes. \n",
        "\n",
        "*Output is the prediction or classification given from network.\n",
        "\n",
        "## Activation: \n",
        "\n",
        "Function that takes in a weighted sum and any biases and decides whether or not the neuron in question should be activated.  A neuron is activated according to one of many activation functions, such as tanh, relu, sigmoid, or linear. This would cause the neuron to send a signal on to the next neuron.\n"
      ]
    },
    {
      "cell_type": "markdown",
      "metadata": {
        "id": "Qw2RVlfWwCa_"
      },
      "source": [
        "Explain how back propagation works as if you were explaining it to a five year-old. Use your own words, but feel free to reference external materials for this question. "
      ]
    },
    {
      "cell_type": "markdown",
      "metadata": {
        "id": "g1e1XtIZwCbA"
      },
      "source": [
        "# Backpropagation \n",
        "\n",
        "Algorithms are a family of methods used to efficiently train artificial neural networks (ANNs) following a gradient descent approach that exploits the chain rule, and is a short form for \"backward propagation of errors.\" It is a standard method of training artificial neural networks. This method helps to calculate the gradient of a loss function with respect to all the weights in the network.\n",
        "\n",
        "The neural network operates according to a loss function and it wants to minimize the loss, therefore it will keep iterating through the layers, according to a gradient."
      ]
    },
    {
      "cell_type": "markdown",
      "metadata": {
        "id": "UKwC-MDQwCbB"
      },
      "source": [
        "Remember our Simple Perceptron Class from Monday. In a simple prediction describe the process of making a prediction. How do you go from inputs to predicted output."
      ]
    },
    {
      "cell_type": "markdown",
      "metadata": {
        "id": "AEqZJM4owCbD"
      },
      "source": [
        "#The process of making a prediction to get inputs to predicted output:\n",
        "    \n",
        "    1. Prepare a Training Dataset\n",
        "        Inputs two numerical input variable\n",
        "        outpus a classs label as either a 0 or 1\n",
        "    2. Fit a model on the training dataset. the machine learning model\n",
        "       takes inputs and makes a prediction.\n",
        "\n",
        "\n",
        "  or\n",
        "\n",
        "  1. Create basic neural network for the input, and takes an input, that modifies it by weight and report an output.\n",
        "  2. Neural network predict based on the average and evaluate base algorithm and compare it actual to how far the model can go.\n",
        "\n",
        "    "
      ]
    },
    {
      "cell_type": "markdown",
      "metadata": {
        "id": "I0eg4StYwCbE"
      },
      "source": [
        "<a id=\"Q2\"></a>\n",
        "## 2. Simple Perceptron\n",
        "\n",
        "In this question, you will build two neural networks using Tensorflow Keras. After you build these two models, compare the results of the model."
      ]
    },
    {
      "cell_type": "code",
      "metadata": {
        "id": "Dy96f1ihwCbG"
      },
      "source": [
        "\"\"\"\n",
        "Our Dataset\n",
        "\"\"\"\n",
        "import numpy as np\n",
        "\n",
        "xx, yy = np.meshgrid(np.linspace(-3, 3, 50),\n",
        "                     np.linspace(-3, 3, 50))\n",
        "rng = np.random.RandomState(0)\n",
        "\n",
        "\"Use this X & y in the following 2 models\"\n",
        "X = rng.randn(300, 2) \n",
        "y = np.array(np.logical_xor(X[:, 0] > 0, X[:, 1] > 0), \n",
        "             dtype=int)"
      ],
      "execution_count": null,
      "outputs": []
    },
    {
      "cell_type": "markdown",
      "metadata": {
        "id": "6YDAANVgwCbO"
      },
      "source": [
        "### Simple Perceptron\n",
        "Construct a simple perceptron using Keras. You model should have 1 dense layer with a single neuron and a sigmoid activation function. Your model should be called `model1` and make sure to save the results of your fit statement to a variable called `h1`. "
      ]
    },
    {
      "cell_type": "code",
      "metadata": {
        "id": "hnk-CXSQj-yI",
        "colab": {
          "base_uri": "https://localhost:8080/",
          "height": 199
        },
        "outputId": "faf65ac5-badb-4b15-e3b0-1c126363cd64"
      },
      "source": [
        "from tensorflow.keras.utils import normalize\n",
        "from sklearn.preprocessing import StandardScaler\n",
        "\n",
        "\n",
        "model1 = Sequential()\n",
        "model1.add(Dense(1, input_dim = 2, activation='sigmoid'))\n",
        "\n",
        "model1.compile(loss='binary_crossentropy',\n",
        "              optimizer='adam',\n",
        "              metrics = ['accuracy'])\n",
        "\n",
        "h1 = model1.fit(X,y, epochs=5, verbose=True)"
      ],
      "execution_count": null,
      "outputs": [
        {
          "output_type": "stream",
          "text": [
            "Epoch 1/5\n",
            "10/10 [==============================] - 0s 1ms/step - loss: 0.8694 - accuracy: 0.5333\n",
            "Epoch 2/5\n",
            "10/10 [==============================] - 0s 1ms/step - loss: 0.8507 - accuracy: 0.5367\n",
            "Epoch 3/5\n",
            "10/10 [==============================] - 0s 1ms/step - loss: 0.8385 - accuracy: 0.5333\n",
            "Epoch 4/5\n",
            "10/10 [==============================] - 0s 1ms/step - loss: 0.8543 - accuracy: 0.5333\n",
            "Epoch 5/5\n",
            "10/10 [==============================] - 0s 1ms/step - loss: 0.8510 - accuracy: 0.5300\n"
          ],
          "name": "stdout"
        }
      ]
    },
    {
      "cell_type": "markdown",
      "metadata": {
        "id": "2JSO10B0wCbW"
      },
      "source": [
        "### Multi-Layer Perceptron\n",
        "Now construct a multi-layer perceptron using Keras. Here are some architecture suggestions: \n",
        "- 2 Hidden Layers\n",
        "- 5-32 Neurons in the Hidden Layers\n",
        "- Your pick of activation function and optimizer\n",
        "- Incorporate the Callback function below into your model\n",
        "\n",
        "Your model should be called `model2` and make sure to save the results of your fit statement to a variable called `h2`. You must also monitor the metric 'accuracy'."
      ]
    },
    {
      "cell_type": "code",
      "metadata": {
        "id": "pEmqVP80wCbX"
      },
      "source": [
        "import tensorflow as tf\n",
        "\n",
        "class myCallback(tf.keras.callbacks.Callback): \n",
        "    def on_epoch_end(self, epoch, logs={}): \n",
        "        if(logs.get('accuracy') > .99999):   \n",
        "            self.model.stop_training = True"
      ],
      "execution_count": null,
      "outputs": []
    },
    {
      "cell_type": "code",
      "metadata": {
        "id": "z2IhuNz7nF1Q",
        "colab": {
          "base_uri": "https://localhost:8080/",
          "height": 199
        },
        "outputId": "5da76686-1460-40c2-8e3e-9b23d36d6d6f"
      },
      "source": [
        "model2 = Sequential()\n",
        "model2.add(Dense(32, input_dim = 2, activation='relu'))\n",
        "model2.add(Dense(32, activation='relu'))\n",
        "model2.add(Dense(1, activation='sigmoid'))\n",
        "\n",
        "model2.compile(optimizer='nadam',\n",
        "               loss='binary_crossentropy',\n",
        "               metrics = ['accuracy']) \n",
        "\n",
        "h2 = model2.fit(X, y, epochs=5, callbacks=[myCallback()], verbose=True)"
      ],
      "execution_count": null,
      "outputs": [
        {
          "output_type": "stream",
          "text": [
            "Epoch 1/5\n",
            "10/10 [==============================] - 0s 2ms/step - loss: 0.7080 - accuracy: 0.4733\n",
            "Epoch 2/5\n",
            "10/10 [==============================] - 0s 1ms/step - loss: 0.6694 - accuracy: 0.5433\n",
            "Epoch 3/5\n",
            "10/10 [==============================] - 0s 1ms/step - loss: 0.6289 - accuracy: 0.7600\n",
            "Epoch 4/5\n",
            "10/10 [==============================] - 0s 1ms/step - loss: 0.5971 - accuracy: 0.9000\n",
            "Epoch 5/5\n",
            "10/10 [==============================] - 0s 2ms/step - loss: 0.5608 - accuracy: 0.9500\n"
          ],
          "name": "stdout"
        }
      ]
    },
    {
      "cell_type": "markdown",
      "metadata": {
        "id": "akX0FBZXwCbk"
      },
      "source": [
        "### Analyze and Compare\n",
        "\n",
        "**Before you Start**: You will need to install an additional library for this next segment. Install the package `mlxtend` into the environment you are using for the sprint challenge.\n",
        "\n",
        "\n",
        "The cells below generate decision boundary plots of your models (`model1` & `model2`). Review the plots."
      ]
    },
    {
      "cell_type": "code",
      "metadata": {
        "id": "kRn2lsExwCbl",
        "colab": {
          "base_uri": "https://localhost:8080/",
          "height": 426
        },
        "outputId": "fad21179-91d5-42e6-aa76-e7116377e459"
      },
      "source": [
        "# Do Not change anything in this cell\n",
        "\n",
        "import matplotlib.pyplot as plt\n",
        "from mlxtend.plotting import plot_decision_regions\n",
        "\n",
        "h = .02  # step size in the mesh\n",
        "\n",
        "# create a mesh to plot in\n",
        "x_min, x_max = X[:, 0].min() - .2, X[:, 0].max() + .2\n",
        "y_min, y_max = X[:, 1].min() - .2, X[:, 1].max() + .2\n",
        "xx, yy = np.meshgrid(np.arange(x_min, x_max, h),\n",
        "                     np.arange(y_min, y_max, h))\n",
        "\n",
        "fig = plt.figure(figsize=(12,6))\n",
        "\n",
        "\n",
        "for clf, hist, name, grd in zip([model1,model2], [h1, h2],['Perceptron', 'Multi-Layer Perceptron'],[1,2]):\n",
        "\n",
        "    ax = plt.subplot(1,2, grd)\n",
        "    fig = plot_decision_regions(X=X, y=y, clf=clf, legend=2)\n",
        "    title = f\"{name} with {hist.history['accuracy'][-1]:,.2f} Accuracy\"\n",
        "    plt.title(title)\n",
        "\n",
        "plt.show()"
      ],
      "execution_count": null,
      "outputs": [
        {
          "output_type": "stream",
          "text": [
            "/usr/local/lib/python3.6/dist-packages/mlxtend/plotting/decision_regions.py:244: MatplotlibDeprecationWarning: Passing unsupported keyword arguments to axis() will raise a TypeError in 3.3.\n",
            "  ax.axis(xmin=xx.min(), xmax=xx.max(), y_min=yy.min(), y_max=yy.max())\n"
          ],
          "name": "stderr"
        },
        {
          "output_type": "display_data",
          "data": {
            "image/png": "[encoded data removed]",
            "text/plain": [
              "<Figure size 864x432 with 2 Axes>"
            ]
          },
          "metadata": {
            "tags": [],
            "needs_background": "light"
          }
        }
      ]
    },
    {
      "cell_type": "markdown",
      "metadata": {
        "id": "lqHIffrgwCbt"
      },
      "source": [
        "Why does the Perceptron (`model1`) only achieve ~70% accuracy? What is the architectural property of the Multi-Layer Perceptron that allows it more accurately learn the relationship between X and y? \n",
        "\n",
        "Why might this property be useful in more complex data such as images?"
      ]
    },
    {
      "cell_type": "markdown",
      "metadata": {
        "id": "7pbIAEP1vWhH"
      },
      "source": [
        "We can conclude that the model one separate data linearly used sigmod activation, while multiple layers allow better recognition of more complex data patterns and development more complex process to help with keras. "
      ]
    },
    {
      "cell_type": "markdown",
      "metadata": {
        "id": "FYeBM1eMwCb6"
      },
      "source": [
        "## 3. Keras MMP <a id=\"Q3\"></a>\n",
        "\n",
        "Implement a Multilayer Perceptron architecture of your choosing using the Keras library. Train your model and report its baseline accuracy. Then hyperparameter tune at least two parameters and report your model's accuracy.\n",
        "Use the Heart Disease Dataset (binary classification)\n",
        "Use an appropriate loss function for a binary classification task\n",
        "Use an appropriate activation function on the final layer of your network.\n",
        "Train your model using verbose output for ease of grading.\n",
        "Use GridSearchCV or RandomSearchCV to hyperparameter tune your model. (for at least two hyperparameters)\n",
        "When hyperparameter tuning, show you work by adding code cells for each new experiment.\n",
        "Report the accuracy for each combination of hyperparameters as you test them so that we can easily see which resulted in the highest accuracy.\n",
        "You must hyperparameter tune at least 3 parameters in order to get a 3 on this section."
      ]
    },
    {
      "cell_type": "code",
      "metadata": {
        "id": "A84JZET0wCb7"
      },
      "source": [
        "import pandas as pd\n",
        "from sklearn.preprocessing import StandardScaler\n",
        "from keras.optimizers import SGD #Stochastic gradient descent optimizer.\n",
        "from keras.models import Sequential\n",
        "from keras.layers import Dense, Dropout\n",
        "from sklearn.model_selection import GridSearchCV\n",
        "from tensorflow.keras.wrappers.scikit_learn import KerasClassifier\n",
        "from sklearn.preprocessing import MinMaxScaler, Normalizer, OrdinalEncoder"
      ],
      "execution_count": null,
      "outputs": []
    },
    {
      "cell_type": "code",
      "metadata": {
        "inputHidden": false,
        "jupyter": {
          "outputs_hidden": false
        },
        "outputHidden": false,
        "id": "D6wDCT2pwCcC",
        "colab": {
          "base_uri": "https://localhost:8080/",
          "height": 221
        },
        "outputId": "ae0dd069-8080-4969-ca63-3974f8f50219"
      },
      "source": [
        "import pandas as pd\n",
        "from sklearn.preprocessing import StandardScaler\n",
        "\n",
        "df = pd.read_csv('https://raw.githubusercontent.com/ryanleeallred/datasets/master/heart.csv')\n",
        "df = df.sample(frac=1)\n",
        "print(df.shape)\n",
        "df.head()"
      ],
      "execution_count": null,
      "outputs": [
        {
          "output_type": "stream",
          "text": [
            "(303, 14)\n"
          ],
          "name": "stdout"
        },
        {
          "output_type": "execute_result",
          "data": {
            "text/html": [
              "<div>\n",
              "<style scoped>\n",
              "    .dataframe tbody tr th:only-of-type {\n",
              "        vertical-align: middle;\n",
              "    }\n",
              "\n",
              "    .dataframe tbody tr th {\n",
              "        vertical-align: top;\n",
              "    }\n",
              "\n",
              "    .dataframe thead th {\n",
              "        text-align: right;\n",
              "    }\n",
              "</style>\n",
              "<table border=\"1\" class=\"dataframe\">\n",
              "  <thead>\n",
              "    <tr style=\"text-align: right;\">\n",
              "      <th></th>\n",
              "      <th>age</th>\n",
              "      <th>sex</th>\n",
              "      <th>cp</th>\n",
              "      <th>trestbps</th>\n",
              "      <th>chol</th>\n",
              "      <th>fbs</th>\n",
              "      <th>restecg</th>\n",
              "      <th>thalach</th>\n",
              "      <th>exang</th>\n",
              "      <th>oldpeak</th>\n",
              "      <th>slope</th>\n",
              "      <th>ca</th>\n",
              "      <th>thal</th>\n",
              "      <th>target</th>\n",
              "    </tr>\n",
              "  </thead>\n",
              "  <tbody>\n",
              "    <tr>\n",
              "      <th>282</th>\n",
              "      <td>59</td>\n",
              "      <td>1</td>\n",
              "      <td>2</td>\n",
              "      <td>126</td>\n",
              "      <td>218</td>\n",
              "      <td>1</td>\n",
              "      <td>1</td>\n",
              "      <td>134</td>\n",
              "      <td>0</td>\n",
              "      <td>2.2</td>\n",
              "      <td>1</td>\n",
              "      <td>1</td>\n",
              "      <td>1</td>\n",
              "      <td>0</td>\n",
              "    </tr>\n",
              "    <tr>\n",
              "      <th>176</th>\n",
              "      <td>60</td>\n",
              "      <td>1</td>\n",
              "      <td>0</td>\n",
              "      <td>117</td>\n",
              "      <td>230</td>\n",
              "      <td>1</td>\n",
              "      <td>1</td>\n",
              "      <td>160</td>\n",
              "      <td>1</td>\n",
              "      <td>1.4</td>\n",
              "      <td>2</td>\n",
              "      <td>2</td>\n",
              "      <td>3</td>\n",
              "      <td>0</td>\n",
              "    </tr>\n",
              "    <tr>\n",
              "      <th>261</th>\n",
              "      <td>52</td>\n",
              "      <td>1</td>\n",
              "      <td>0</td>\n",
              "      <td>112</td>\n",
              "      <td>230</td>\n",
              "      <td>0</td>\n",
              "      <td>1</td>\n",
              "      <td>160</td>\n",
              "      <td>0</td>\n",
              "      <td>0.0</td>\n",
              "      <td>2</td>\n",
              "      <td>1</td>\n",
              "      <td>2</td>\n",
              "      <td>0</td>\n",
              "    </tr>\n",
              "    <tr>\n",
              "      <th>281</th>\n",
              "      <td>52</td>\n",
              "      <td>1</td>\n",
              "      <td>0</td>\n",
              "      <td>128</td>\n",
              "      <td>204</td>\n",
              "      <td>1</td>\n",
              "      <td>1</td>\n",
              "      <td>156</td>\n",
              "      <td>1</td>\n",
              "      <td>1.0</td>\n",
              "      <td>1</td>\n",
              "      <td>0</td>\n",
              "      <td>0</td>\n",
              "      <td>0</td>\n",
              "    </tr>\n",
              "    <tr>\n",
              "      <th>135</th>\n",
              "      <td>49</td>\n",
              "      <td>0</td>\n",
              "      <td>0</td>\n",
              "      <td>130</td>\n",
              "      <td>269</td>\n",
              "      <td>0</td>\n",
              "      <td>1</td>\n",
              "      <td>163</td>\n",
              "      <td>0</td>\n",
              "      <td>0.0</td>\n",
              "      <td>2</td>\n",
              "      <td>0</td>\n",
              "      <td>2</td>\n",
              "      <td>1</td>\n",
              "    </tr>\n",
              "  </tbody>\n",
              "</table>\n",
              "</div>"
            ],
            "text/plain": [
              "     age  sex  cp  trestbps  chol  fbs  ...  exang  oldpeak  slope  ca  thal  target\n",
              "282   59    1   2       126   218    1  ...      0      2.2      1   1     1       0\n",
              "176   60    1   0       117   230    1  ...      1      1.4      2   2     3       0\n",
              "261   52    1   0       112   230    0  ...      0      0.0      2   1     2       0\n",
              "281   52    1   0       128   204    1  ...      1      1.0      1   0     0       0\n",
              "135   49    0   0       130   269    0  ...      0      0.0      2   0     2       1\n",
              "\n",
              "[5 rows x 14 columns]"
            ]
          },
          "metadata": {
            "tags": []
          },
          "execution_count": 150
        }
      ]
    },
    {
      "cell_type": "code",
      "metadata": {
        "id": "rd0kOFI3wmyd",
        "colab": {
          "base_uri": "https://localhost:8080/",
          "height": 51
        },
        "outputId": "30f4f9a5-9899-4a26-fe2f-de1ee98eb4ce"
      },
      "source": [
        "target = 'target'\n",
        "features = ['age', 'sex', 'cp', 'trestbps', 'chol', 'fbs', 'restecg', 'thalach',\n",
        "       'exang', 'oldpeak', 'slope', 'ca', 'thal', 'target']\n",
        "features = df.drop(columns=target).columns\n",
        "\n",
        "X = df[features].values\n",
        "y = df[target].values\n",
        "\n",
        "print('X', X.shape, type(X))\n",
        "print('y', y.shape, type(y))"
      ],
      "execution_count": null,
      "outputs": [
        {
          "output_type": "stream",
          "text": [
            "X (303, 13) <class 'numpy.ndarray'>\n",
            "y (303,) <class 'numpy.ndarray'>\n"
          ],
          "name": "stdout"
        }
      ]
    },
    {
      "cell_type": "markdown",
      "metadata": {
        "id": "kZgjn-Asw7bQ"
      },
      "source": [
        "#Train your model and report its baseline accuracy."
      ]
    },
    {
      "cell_type": "code",
      "metadata": {
        "id": "E3-P5JdCw1HZ",
        "colab": {
          "base_uri": "https://localhost:8080/",
          "height": 34
        },
        "outputId": "2634f68e-94a1-4855-ac07-d8788a96b28b"
      },
      "source": [
        "#Baseline Accuracy:\n",
        "\n",
        "y_heart = df['target']\n",
        "heart = df['target'].mode()[0]\n",
        "\n",
        "#Do list Prediction length for the DataFrame\n",
        "y_pred = [heart] * len(y_heart)\n",
        "\n",
        "#Accuracy_score - baseline accuracy\n",
        "from sklearn.metrics import accuracy_score\n",
        "print(\"Baseline Accuracy:\", accuracy_score(y_heart, y_pred))"
      ],
      "execution_count": null,
      "outputs": [
        {
          "output_type": "stream",
          "text": [
            "Baseline Accuracy: 0.5445544554455446\n"
          ],
          "name": "stdout"
        }
      ]
    },
    {
      "cell_type": "code",
      "metadata": {
        "id": "DIibK94Yw_vi"
      },
      "source": [
        "scaler = MinMaxScaler()\n",
        "df_transform = scaler.fit_transform(df)"
      ],
      "execution_count": null,
      "outputs": []
    },
    {
      "cell_type": "code",
      "metadata": {
        "id": "x9AJHFnxxETN",
        "colab": {
          "base_uri": "https://localhost:8080/",
          "height": 34
        },
        "outputId": "b840f55e-3704-409e-f6e4-c813e7aabeec"
      },
      "source": [
        "from sklearn.model_selection import train_test_split\n",
        "\n",
        "# Split the values into X and y components:\n",
        "X_train, X_test, y_train, y_test = train_test_split(df_transform[:, :-1], df_transform[:, -1], \n",
        "test_size=0.20, random_state=85)\n",
        "\n",
        "print(X_train.shape, X_test.shape, y_train.shape, y_test.shape)"
      ],
      "execution_count": null,
      "outputs": [
        {
          "output_type": "stream",
          "text": [
            "(242, 13) (61, 13) (242,) (61,)\n"
          ],
          "name": "stdout"
        }
      ]
    },
    {
      "cell_type": "code",
      "metadata": {
        "id": "H1_0jPT-yLAo",
        "colab": {
          "base_uri": "https://localhost:8080/",
          "height": 374
        },
        "outputId": "2fb2edac-87bd-4c30-ac36-603e55d5227e"
      },
      "source": [
        "#Model 1\n",
        "model = Sequential()\n",
        "\n",
        "model.add(Dense(5, activation='relu', input_shape=(13,)))\n",
        "model.add(Dense(1, activation='sigmoid'))\n",
        "model.compile(loss='binary_crossentropy',  \n",
        "              optimizer=SGD(lr=0.1, momentum=0.9), \n",
        "              metrics=['accuracy'])\n",
        "\n",
        "history = model.fit(X_train, y_train, validation_data=(X_test, y_test), \n",
        "                    epochs=10, batch_size=20, verbose=1)"
      ],
      "execution_count": null,
      "outputs": [
        {
          "output_type": "stream",
          "text": [
            "Train on 242 samples, validate on 61 samples\n",
            "Epoch 1/10\n",
            "242/242 [==============================] - 0s 364us/step - loss: 0.6989 - accuracy: 0.4959 - val_loss: 0.6287 - val_accuracy: 0.5574\n",
            "Epoch 2/10\n",
            "242/242 [==============================] - 0s 74us/step - loss: 0.6084 - accuracy: 0.6488 - val_loss: 0.4755 - val_accuracy: 0.8525\n",
            "Epoch 3/10\n",
            "242/242 [==============================] - 0s 77us/step - loss: 0.4877 - accuracy: 0.7893 - val_loss: 0.3165 - val_accuracy: 0.8525\n",
            "Epoch 4/10\n",
            "242/242 [==============================] - 0s 78us/step - loss: 0.5183 - accuracy: 0.7397 - val_loss: 0.3031 - val_accuracy: 0.8525\n",
            "Epoch 5/10\n",
            "242/242 [==============================] - 0s 80us/step - loss: 0.4668 - accuracy: 0.7727 - val_loss: 0.3186 - val_accuracy: 0.9016\n",
            "Epoch 6/10\n",
            "242/242 [==============================] - 0s 88us/step - loss: 0.5151 - accuracy: 0.7769 - val_loss: 0.4271 - val_accuracy: 0.8361\n",
            "Epoch 7/10\n",
            "242/242 [==============================] - 0s 82us/step - loss: 0.4202 - accuracy: 0.7934 - val_loss: 0.2805 - val_accuracy: 0.8852\n",
            "Epoch 8/10\n",
            "242/242 [==============================] - 0s 84us/step - loss: 0.4119 - accuracy: 0.8223 - val_loss: 0.2834 - val_accuracy: 0.8852\n",
            "Epoch 9/10\n",
            "242/242 [==============================] - 0s 104us/step - loss: 0.4234 - accuracy: 0.7975 - val_loss: 0.2909 - val_accuracy: 0.9180\n",
            "Epoch 10/10\n",
            "242/242 [==============================] - 0s 101us/step - loss: 0.4234 - accuracy: 0.7934 - val_loss: 0.3154 - val_accuracy: 0.8852\n"
          ],
          "name": "stdout"
        }
      ]
    },
    {
      "cell_type": "code",
      "metadata": {
        "id": "QSPs826UyVVl"
      },
      "source": [
        "from tensorflow.keras.optimizers import Adam, SGD\n",
        "import numpy as np\n",
        "\n",
        "# Fixing random seed for reproducibility\n",
        "seed = 85\n",
        "np.random.seed(seed)\n",
        "\n",
        "# Function to create model, required for KerasClassifier\n",
        "def create_model():\n",
        "  \n",
        "  # create model\n",
        "  model = Sequential()\n",
        "  model.add(Dense(13, input_dim=13, activation='relu'))\n",
        "  model.add(Dense(12, activation='sigmoid'))\n",
        "  model.add(Dense(1, activation='sigmoid'))\n",
        "\n",
        "  # compile model\n",
        "  adam = Adam(lr=0.01, beta_1=0.9, beta_2=0.999, epsilon=1e-8)\n",
        "  model.compile(loss='binary_crossentropy', optimizer=adam, metrics=['accuracy'])\n",
        "  print(model.summary())\n",
        "\n",
        "  return model\n",
        "\n",
        "# create model\n",
        "model = KerasClassifier(build_fn=create_model, verbose=0)"
      ],
      "execution_count": null,
      "outputs": []
    },
    {
      "cell_type": "code",
      "metadata": {
        "id": "FxdjKSPlytYB",
        "colab": {
          "base_uri": "https://localhost:8080/",
          "height": 1000
        },
        "outputId": "786c08c5-b528-4b8f-d24b-d395f8508f70"
      },
      "source": [
        "#Fit model:\n",
        "model.fit(X_train, y_train,\n",
        "          validation_data=(X_test,y_test),\n",
        "          epochs=50,\n",
        "          batch_size=20,\n",
        "          verbose=1)"
      ],
      "execution_count": null,
      "outputs": [
        {
          "output_type": "stream",
          "text": [
            "Model: \"sequential_2\"\n",
            "_________________________________________________________________\n",
            "Layer (type)                 Output Shape              Param #   \n",
            "=================================================================\n",
            "dense_3 (Dense)              (None, 13)                182       \n",
            "_________________________________________________________________\n",
            "dense_4 (Dense)              (None, 12)                168       \n",
            "_________________________________________________________________\n",
            "dense_5 (Dense)              (None, 1)                 13        \n",
            "=================================================================\n",
            "Total params: 363\n",
            "Trainable params: 363\n",
            "Non-trainable params: 0\n",
            "_________________________________________________________________\n",
            "None\n",
            "Train on 242 samples, validate on 61 samples\n",
            "Epoch 1/50\n",
            "242/242 [==============================] - 0s 386us/step - loss: 0.6836 - accuracy: 0.5785 - val_loss: 0.6127 - val_accuracy: 0.8525\n",
            "Epoch 2/50\n",
            "242/242 [==============================] - 0s 86us/step - loss: 0.6118 - accuracy: 0.7603 - val_loss: 0.5236 - val_accuracy: 0.8361\n",
            "Epoch 3/50\n",
            "242/242 [==============================] - 0s 88us/step - loss: 0.5369 - accuracy: 0.8099 - val_loss: 0.4124 - val_accuracy: 0.9180\n",
            "Epoch 4/50\n",
            "242/242 [==============================] - 0s 87us/step - loss: 0.4738 - accuracy: 0.8017 - val_loss: 0.3433 - val_accuracy: 0.9016\n",
            "Epoch 5/50\n",
            "242/242 [==============================] - 0s 91us/step - loss: 0.4460 - accuracy: 0.8058 - val_loss: 0.3018 - val_accuracy: 0.9016\n",
            "Epoch 6/50\n",
            "242/242 [==============================] - 0s 87us/step - loss: 0.4225 - accuracy: 0.8264 - val_loss: 0.2788 - val_accuracy: 0.9180\n",
            "Epoch 7/50\n",
            "242/242 [==============================] - 0s 86us/step - loss: 0.4174 - accuracy: 0.8182 - val_loss: 0.2819 - val_accuracy: 0.9016\n",
            "Epoch 8/50\n",
            "242/242 [==============================] - 0s 103us/step - loss: 0.4125 - accuracy: 0.8140 - val_loss: 0.2911 - val_accuracy: 0.8852\n",
            "Epoch 9/50\n",
            "242/242 [==============================] - 0s 86us/step - loss: 0.4022 - accuracy: 0.8099 - val_loss: 0.2872 - val_accuracy: 0.9016\n",
            "Epoch 10/50\n",
            "242/242 [==============================] - 0s 86us/step - loss: 0.3912 - accuracy: 0.8347 - val_loss: 0.2928 - val_accuracy: 0.8852\n",
            "Epoch 11/50\n",
            "242/242 [==============================] - 0s 88us/step - loss: 0.3942 - accuracy: 0.8306 - val_loss: 0.2855 - val_accuracy: 0.9016\n",
            "Epoch 12/50\n",
            "242/242 [==============================] - 0s 89us/step - loss: 0.3863 - accuracy: 0.8182 - val_loss: 0.2758 - val_accuracy: 0.8852\n",
            "Epoch 13/50\n",
            "242/242 [==============================] - 0s 87us/step - loss: 0.3840 - accuracy: 0.8347 - val_loss: 0.2901 - val_accuracy: 0.9016\n",
            "Epoch 14/50\n",
            "242/242 [==============================] - 0s 85us/step - loss: 0.3902 - accuracy: 0.8347 - val_loss: 0.2838 - val_accuracy: 0.8689\n",
            "Epoch 15/50\n",
            "242/242 [==============================] - 0s 105us/step - loss: 0.3735 - accuracy: 0.8512 - val_loss: 0.2855 - val_accuracy: 0.9180\n",
            "Epoch 16/50\n",
            "242/242 [==============================] - 0s 93us/step - loss: 0.3680 - accuracy: 0.8430 - val_loss: 0.2806 - val_accuracy: 0.8852\n",
            "Epoch 17/50\n",
            "242/242 [==============================] - 0s 98us/step - loss: 0.3715 - accuracy: 0.8388 - val_loss: 0.2829 - val_accuracy: 0.9180\n",
            "Epoch 18/50\n",
            "242/242 [==============================] - 0s 89us/step - loss: 0.3673 - accuracy: 0.8554 - val_loss: 0.2821 - val_accuracy: 0.8852\n",
            "Epoch 19/50\n",
            "242/242 [==============================] - 0s 91us/step - loss: 0.3594 - accuracy: 0.8678 - val_loss: 0.2837 - val_accuracy: 0.8852\n",
            "Epoch 20/50\n",
            "242/242 [==============================] - 0s 85us/step - loss: 0.3698 - accuracy: 0.8306 - val_loss: 0.2922 - val_accuracy: 0.8852\n",
            "Epoch 21/50\n",
            "242/242 [==============================] - 0s 90us/step - loss: 0.3601 - accuracy: 0.8471 - val_loss: 0.2872 - val_accuracy: 0.8852\n",
            "Epoch 22/50\n",
            "242/242 [==============================] - 0s 93us/step - loss: 0.3593 - accuracy: 0.8554 - val_loss: 0.2850 - val_accuracy: 0.8852\n",
            "Epoch 23/50\n",
            "242/242 [==============================] - 0s 88us/step - loss: 0.3458 - accuracy: 0.8554 - val_loss: 0.3102 - val_accuracy: 0.8689\n",
            "Epoch 24/50\n",
            "242/242 [==============================] - 0s 84us/step - loss: 0.3580 - accuracy: 0.8554 - val_loss: 0.2942 - val_accuracy: 0.8852\n",
            "Epoch 25/50\n",
            "242/242 [==============================] - 0s 83us/step - loss: 0.3366 - accuracy: 0.8719 - val_loss: 0.2969 - val_accuracy: 0.8689\n",
            "Epoch 26/50\n",
            "242/242 [==============================] - 0s 81us/step - loss: 0.3494 - accuracy: 0.8719 - val_loss: 0.3009 - val_accuracy: 0.8852\n",
            "Epoch 27/50\n",
            "242/242 [==============================] - 0s 89us/step - loss: 0.3408 - accuracy: 0.8636 - val_loss: 0.2966 - val_accuracy: 0.8852\n",
            "Epoch 28/50\n",
            "242/242 [==============================] - 0s 83us/step - loss: 0.3388 - accuracy: 0.8760 - val_loss: 0.3025 - val_accuracy: 0.8689\n",
            "Epoch 29/50\n",
            "242/242 [==============================] - 0s 90us/step - loss: 0.3544 - accuracy: 0.8554 - val_loss: 0.3048 - val_accuracy: 0.8525\n",
            "Epoch 30/50\n",
            "242/242 [==============================] - 0s 100us/step - loss: 0.3884 - accuracy: 0.8264 - val_loss: 0.2940 - val_accuracy: 0.8852\n",
            "Epoch 31/50\n",
            "242/242 [==============================] - 0s 91us/step - loss: 0.3357 - accuracy: 0.8678 - val_loss: 0.2862 - val_accuracy: 0.8689\n",
            "Epoch 32/50\n",
            "242/242 [==============================] - 0s 102us/step - loss: 0.3332 - accuracy: 0.8719 - val_loss: 0.2959 - val_accuracy: 0.8689\n",
            "Epoch 33/50\n",
            "242/242 [==============================] - 0s 86us/step - loss: 0.3212 - accuracy: 0.8884 - val_loss: 0.2984 - val_accuracy: 0.8689\n",
            "Epoch 34/50\n",
            "242/242 [==============================] - 0s 98us/step - loss: 0.3198 - accuracy: 0.8802 - val_loss: 0.3000 - val_accuracy: 0.8525\n",
            "Epoch 35/50\n",
            "242/242 [==============================] - 0s 87us/step - loss: 0.3145 - accuracy: 0.8967 - val_loss: 0.3060 - val_accuracy: 0.8525\n",
            "Epoch 36/50\n",
            "242/242 [==============================] - 0s 86us/step - loss: 0.3160 - accuracy: 0.8719 - val_loss: 0.3105 - val_accuracy: 0.8361\n",
            "Epoch 37/50\n",
            "242/242 [==============================] - 0s 83us/step - loss: 0.3108 - accuracy: 0.8884 - val_loss: 0.3188 - val_accuracy: 0.8361\n",
            "Epoch 38/50\n",
            "242/242 [==============================] - 0s 83us/step - loss: 0.3004 - accuracy: 0.8967 - val_loss: 0.3313 - val_accuracy: 0.8689\n",
            "Epoch 39/50\n",
            "242/242 [==============================] - 0s 83us/step - loss: 0.3182 - accuracy: 0.8595 - val_loss: 0.3617 - val_accuracy: 0.7869\n",
            "Epoch 40/50\n",
            "242/242 [==============================] - 0s 83us/step - loss: 0.3273 - accuracy: 0.8760 - val_loss: 0.3436 - val_accuracy: 0.8689\n",
            "Epoch 41/50\n",
            "242/242 [==============================] - 0s 90us/step - loss: 0.2995 - accuracy: 0.9008 - val_loss: 0.3465 - val_accuracy: 0.8197\n",
            "Epoch 42/50\n",
            "242/242 [==============================] - 0s 89us/step - loss: 0.2942 - accuracy: 0.9091 - val_loss: 0.3522 - val_accuracy: 0.8525\n",
            "Epoch 43/50\n",
            "242/242 [==============================] - 0s 92us/step - loss: 0.3163 - accuracy: 0.8678 - val_loss: 0.3646 - val_accuracy: 0.8361\n",
            "Epoch 44/50\n",
            "242/242 [==============================] - 0s 127us/step - loss: 0.3161 - accuracy: 0.8678 - val_loss: 0.3607 - val_accuracy: 0.8197\n",
            "Epoch 45/50\n",
            "242/242 [==============================] - 0s 91us/step - loss: 0.2930 - accuracy: 0.9091 - val_loss: 0.3374 - val_accuracy: 0.8361\n",
            "Epoch 46/50\n",
            "242/242 [==============================] - 0s 104us/step - loss: 0.2933 - accuracy: 0.8719 - val_loss: 0.3435 - val_accuracy: 0.8361\n",
            "Epoch 47/50\n",
            "242/242 [==============================] - 0s 110us/step - loss: 0.3174 - accuracy: 0.8719 - val_loss: 0.3782 - val_accuracy: 0.8361\n",
            "Epoch 48/50\n",
            "242/242 [==============================] - 0s 111us/step - loss: 0.3141 - accuracy: 0.8678 - val_loss: 0.3732 - val_accuracy: 0.8197\n",
            "Epoch 49/50\n",
            "242/242 [==============================] - 0s 97us/step - loss: 0.2942 - accuracy: 0.8843 - val_loss: 0.3587 - val_accuracy: 0.8197\n",
            "Epoch 50/50\n",
            "242/242 [==============================] - 0s 92us/step - loss: 0.3025 - accuracy: 0.8636 - val_loss: 0.3701 - val_accuracy: 0.8361\n"
          ],
          "name": "stdout"
        },
        {
          "output_type": "execute_result",
          "data": {
            "text/plain": [
              "<keras.callbacks.callbacks.History at 0x7fd82151f898>"
            ]
          },
          "metadata": {
            "tags": []
          },
          "execution_count": 157
        }
      ]
    },
    {
      "cell_type": "code",
      "metadata": {
        "id": "v-Re3I2Lyxrc",
        "colab": {
          "base_uri": "https://localhost:8080/",
          "height": 34
        },
        "outputId": "fffcd3cc-872f-4723-fed6-a269e6127249"
      },
      "source": [
        "print(f\"Accuracy: {accuracy_score(np.round(model.predict(X_test)),y_test)}\")"
      ],
      "execution_count": null,
      "outputs": [
        {
          "output_type": "stream",
          "text": [
            "Accuracy: 0.7540983606557377\n"
          ],
          "name": "stdout"
        }
      ]
    },
    {
      "cell_type": "code",
      "metadata": {
        "id": "WBRzhG6Ey3l_"
      },
      "source": [
        "# Function to create model, required for KerasClassifier:\n",
        "# define the grid search parameters\n",
        "\n",
        "param_grid = {'batch_size': [32, 64, 128, 256, 512],\n",
        "                'epochs': [100]}\n",
        "\n",
        "def gridsearch_create_model():\n",
        "\n",
        "  # create model\n",
        "  model = Sequential()\n",
        "  model.add(Dense(13, input_dim=13, activation='relu'))\n",
        "  model.add(Dense(12, activation='sigmoid'))\n",
        "  model.add(Dense(1, activation='sigmoid'))\n",
        "\n",
        "  # compile model\n",
        "  adam = Adam(lr=0.001, beta_1=0.9, \n",
        "              beta_2=0.999, \n",
        "              epsilon=1e-8)\n",
        "  model.compile(loss='binary_crossentropy', \n",
        "                optimizer=adam, \n",
        "                metrics=['accuracy'])\n",
        "\n",
        "  return model\n",
        "\n",
        "  # create model\n",
        "model2 = KerasClassifier(build_fn=gridsearch_create_model, verbose=0)"
      ],
      "execution_count": null,
      "outputs": []
    },
    {
      "cell_type": "code",
      "metadata": {
        "id": "vcZf3X-Py7xZ"
      },
      "source": [
        "# Create grid search\n",
        "grid = GridSearchCV(estimator=model2, param_grid=param_grid)\n",
        "grid_result = grid.fit(X_train, y_train)"
      ],
      "execution_count": null,
      "outputs": []
    },
    {
      "cell_type": "code",
      "metadata": {
        "id": "rLlI2Ebvy97O",
        "colab": {
          "base_uri": "https://localhost:8080/",
          "height": 139
        },
        "outputId": "cbec5e5f-9d05-4539-de11-dd9d2a9ea1fe"
      },
      "source": [
        "# Report Results\n",
        "print(f\"Best: {grid_result.best_score_} using {grid_result.best_params_}\")\n",
        "means = grid_result.cv_results_['mean_test_score']\n",
        "stds = grid_result.cv_results_['std_test_score']\n",
        "params = grid_result.cv_results_['params']\n",
        "for mean, stdev, param in zip(means, stds, params):\n",
        "  print(f\"Means: {mean}, Stdev: {stdev} with: {params}\")"
      ],
      "execution_count": null,
      "outputs": [
        {
          "output_type": "stream",
          "text": [
            "Best: 0.7847789168357849 using {'batch_size': 32, 'epochs': 100}\n",
            "Means: 0.7847789168357849, Stdev: 0.05107309824926513 with: [{'batch_size': 32, 'epochs': 100}, {'batch_size': 64, 'epochs': 100}, {'batch_size': 128, 'epochs': 100}, {'batch_size': 256, 'epochs': 100}, {'batch_size': 512, 'epochs': 100}]\n",
            "Means: 0.7766156554222107, Stdev: 0.05501220556715338 with: [{'batch_size': 32, 'epochs': 100}, {'batch_size': 64, 'epochs': 100}, {'batch_size': 128, 'epochs': 100}, {'batch_size': 256, 'epochs': 100}, {'batch_size': 512, 'epochs': 100}]\n",
            "Means: 0.7725340127944946, Stdev: 0.03582548279217882 with: [{'batch_size': 32, 'epochs': 100}, {'batch_size': 64, 'epochs': 100}, {'batch_size': 128, 'epochs': 100}, {'batch_size': 256, 'epochs': 100}, {'batch_size': 512, 'epochs': 100}]\n",
            "Means: 0.7142857193946839, Stdev: 0.11379603872921508 with: [{'batch_size': 32, 'epochs': 100}, {'batch_size': 64, 'epochs': 100}, {'batch_size': 128, 'epochs': 100}, {'batch_size': 256, 'epochs': 100}, {'batch_size': 512, 'epochs': 100}]\n",
            "Means: 0.7476190567016602, Stdev: 0.07721050574141075 with: [{'batch_size': 32, 'epochs': 100}, {'batch_size': 64, 'epochs': 100}, {'batch_size': 128, 'epochs': 100}, {'batch_size': 256, 'epochs': 100}, {'batch_size': 512, 'epochs': 100}]\n"
          ],
          "name": "stdout"
        }
      ]
    },
    {
      "cell_type": "code",
      "metadata": {
        "id": "bUiRTk7czdkp"
      },
      "source": [
        "#model 2\n",
        "\n",
        "# define the grid search parameters\n",
        "momentum = [0.0, 0.2, 0.4, 0.6, 0.8, 0.9]\n",
        "lr = [0.001, 0.01, 0.1, 0.2, 0.3, 0.4, 0.5]\n",
        "dropout_rate = [0.0, 0.1, 0.2, 0.3, 0.4, 0.5]\n",
        "neurons = [1, 5, 10, 15, 20, 25, 30]\n",
        "batch_size = [5, 10, 50, 100]\n",
        "epochs = [10]\n",
        "\n",
        "param_grid = dict(batch_size=batch_size, epochs=epochs)\n",
        "\n",
        "def create_model(momentum=0, lr=0, \n",
        "                 dropout_rate=0, \n",
        "                 kernel_initializer='normal'):\n",
        "  \n",
        "    optimizer = SGD(lr=lr, momentum=momentum)\n",
        "\n",
        "    model = Sequential()\n",
        "    model.add(Dense(30, input_shape=(13,),\n",
        "                    kernel_initializer=kernel_initializer,\n",
        "                    activation='sigmoid'))\n",
        "    \n",
        "    model.add(Dropout(dropout_rate))\n",
        "\n",
        "    model.add(Dense(20, activation='relu'))\n",
        "    model.add(Dense(3, activation='relu'))\n",
        "    model.add(Dense(1, kernel_initializer=kernel_initializer, activation='sigmoid'))\n",
        "    \n",
        "    model.compile(loss='binary_crossentropy', optimizer=optimizer, metrics=['accuracy'])\n",
        "\n",
        "    return model\n",
        "\n",
        "# create model\n",
        "model = KerasClassifier(build_fn=create_model, verbose=0)"
      ],
      "execution_count": null,
      "outputs": []
    },
    {
      "cell_type": "code",
      "metadata": {
        "id": "effUuKK6Sq_b",
        "colab": {
          "base_uri": "https://localhost:8080/",
          "height": 1000
        },
        "outputId": "0e546423-14ec-4b9c-ad9f-0dba185cbc03"
      },
      "source": [
        "#Fit model:\n",
        "model.fit(X_train, y_train,\n",
        "          validation_data=(X_test,y_test),\n",
        "          epochs=50,\n",
        "          batch_size=20,\n",
        "          verbose=1)"
      ],
      "execution_count": null,
      "outputs": [
        {
          "output_type": "stream",
          "text": [
            "Train on 242 samples, validate on 61 samples\n",
            "Epoch 1/50\n",
            "242/242 [==============================] - 0s 316us/step - loss: 0.6931 - accuracy: 0.5248 - val_loss: 0.6931 - val_accuracy: 0.5738\n",
            "Epoch 2/50\n",
            "242/242 [==============================] - 0s 76us/step - loss: 0.6931 - accuracy: 0.5248 - val_loss: 0.6931 - val_accuracy: 0.5738\n",
            "Epoch 3/50\n",
            "242/242 [==============================] - 0s 80us/step - loss: 0.6931 - accuracy: 0.5248 - val_loss: 0.6931 - val_accuracy: 0.5738\n",
            "Epoch 4/50\n",
            "242/242 [==============================] - 0s 84us/step - loss: 0.6931 - accuracy: 0.5248 - val_loss: 0.6931 - val_accuracy: 0.5738\n",
            "Epoch 5/50\n",
            "242/242 [==============================] - 0s 75us/step - loss: 0.6931 - accuracy: 0.5248 - val_loss: 0.6931 - val_accuracy: 0.5738\n",
            "Epoch 6/50\n",
            "242/242 [==============================] - 0s 75us/step - loss: 0.6931 - accuracy: 0.5248 - val_loss: 0.6931 - val_accuracy: 0.5738\n",
            "Epoch 7/50\n",
            "242/242 [==============================] - 0s 81us/step - loss: 0.6931 - accuracy: 0.5248 - val_loss: 0.6931 - val_accuracy: 0.5738\n",
            "Epoch 8/50\n",
            "242/242 [==============================] - 0s 84us/step - loss: 0.6931 - accuracy: 0.5248 - val_loss: 0.6931 - val_accuracy: 0.5738\n",
            "Epoch 9/50\n",
            "242/242 [==============================] - 0s 86us/step - loss: 0.6931 - accuracy: 0.5248 - val_loss: 0.6931 - val_accuracy: 0.5738\n",
            "Epoch 10/50\n",
            "242/242 [==============================] - 0s 109us/step - loss: 0.6931 - accuracy: 0.5248 - val_loss: 0.6931 - val_accuracy: 0.5738\n",
            "Epoch 11/50\n",
            "242/242 [==============================] - 0s 96us/step - loss: 0.6931 - accuracy: 0.5248 - val_loss: 0.6931 - val_accuracy: 0.5738\n",
            "Epoch 12/50\n",
            "242/242 [==============================] - 0s 82us/step - loss: 0.6931 - accuracy: 0.5248 - val_loss: 0.6931 - val_accuracy: 0.5738\n",
            "Epoch 13/50\n",
            "242/242 [==============================] - 0s 89us/step - loss: 0.6931 - accuracy: 0.5248 - val_loss: 0.6931 - val_accuracy: 0.5738\n",
            "Epoch 14/50\n",
            "242/242 [==============================] - 0s 81us/step - loss: 0.6931 - accuracy: 0.5248 - val_loss: 0.6931 - val_accuracy: 0.5738\n",
            "Epoch 15/50\n",
            "242/242 [==============================] - 0s 85us/step - loss: 0.6931 - accuracy: 0.5248 - val_loss: 0.6931 - val_accuracy: 0.5738\n",
            "Epoch 16/50\n",
            "242/242 [==============================] - 0s 84us/step - loss: 0.6931 - accuracy: 0.5248 - val_loss: 0.6931 - val_accuracy: 0.5738\n",
            "Epoch 17/50\n",
            "242/242 [==============================] - 0s 90us/step - loss: 0.6931 - accuracy: 0.5248 - val_loss: 0.6931 - val_accuracy: 0.5738\n",
            "Epoch 18/50\n",
            "242/242 [==============================] - 0s 80us/step - loss: 0.6931 - accuracy: 0.5248 - val_loss: 0.6931 - val_accuracy: 0.5738\n",
            "Epoch 19/50\n",
            "242/242 [==============================] - 0s 79us/step - loss: 0.6931 - accuracy: 0.5248 - val_loss: 0.6931 - val_accuracy: 0.5738\n",
            "Epoch 20/50\n",
            "242/242 [==============================] - 0s 105us/step - loss: 0.6931 - accuracy: 0.5248 - val_loss: 0.6931 - val_accuracy: 0.5738\n",
            "Epoch 21/50\n",
            "242/242 [==============================] - 0s 97us/step - loss: 0.6931 - accuracy: 0.5248 - val_loss: 0.6931 - val_accuracy: 0.5738\n",
            "Epoch 22/50\n",
            "242/242 [==============================] - 0s 81us/step - loss: 0.6931 - accuracy: 0.5248 - val_loss: 0.6931 - val_accuracy: 0.5738\n",
            "Epoch 23/50\n",
            "242/242 [==============================] - 0s 97us/step - loss: 0.6931 - accuracy: 0.5248 - val_loss: 0.6931 - val_accuracy: 0.5738\n",
            "Epoch 24/50\n",
            "242/242 [==============================] - 0s 78us/step - loss: 0.6931 - accuracy: 0.5248 - val_loss: 0.6931 - val_accuracy: 0.5738\n",
            "Epoch 25/50\n",
            "242/242 [==============================] - 0s 76us/step - loss: 0.6931 - accuracy: 0.5248 - val_loss: 0.6931 - val_accuracy: 0.5738\n",
            "Epoch 26/50\n",
            "242/242 [==============================] - 0s 84us/step - loss: 0.6931 - accuracy: 0.5248 - val_loss: 0.6931 - val_accuracy: 0.5738\n",
            "Epoch 27/50\n",
            "242/242 [==============================] - 0s 88us/step - loss: 0.6931 - accuracy: 0.5248 - val_loss: 0.6931 - val_accuracy: 0.5738\n",
            "Epoch 28/50\n",
            "242/242 [==============================] - 0s 78us/step - loss: 0.6931 - accuracy: 0.5248 - val_loss: 0.6931 - val_accuracy: 0.5738\n",
            "Epoch 29/50\n",
            "242/242 [==============================] - 0s 83us/step - loss: 0.6931 - accuracy: 0.5248 - val_loss: 0.6931 - val_accuracy: 0.5738\n",
            "Epoch 30/50\n",
            "242/242 [==============================] - 0s 92us/step - loss: 0.6931 - accuracy: 0.5248 - val_loss: 0.6931 - val_accuracy: 0.5738\n",
            "Epoch 31/50\n",
            "242/242 [==============================] - 0s 90us/step - loss: 0.6931 - accuracy: 0.5248 - val_loss: 0.6931 - val_accuracy: 0.5738\n",
            "Epoch 32/50\n",
            "242/242 [==============================] - 0s 90us/step - loss: 0.6931 - accuracy: 0.5248 - val_loss: 0.6931 - val_accuracy: 0.5738\n",
            "Epoch 33/50\n",
            "242/242 [==============================] - 0s 81us/step - loss: 0.6931 - accuracy: 0.5248 - val_loss: 0.6931 - val_accuracy: 0.5738\n",
            "Epoch 34/50\n",
            "242/242 [==============================] - 0s 82us/step - loss: 0.6931 - accuracy: 0.5248 - val_loss: 0.6931 - val_accuracy: 0.5738\n",
            "Epoch 35/50\n",
            "242/242 [==============================] - 0s 88us/step - loss: 0.6931 - accuracy: 0.5248 - val_loss: 0.6931 - val_accuracy: 0.5738\n",
            "Epoch 36/50\n",
            "242/242 [==============================] - 0s 82us/step - loss: 0.6931 - accuracy: 0.5248 - val_loss: 0.6931 - val_accuracy: 0.5738\n",
            "Epoch 37/50\n",
            "242/242 [==============================] - 0s 87us/step - loss: 0.6931 - accuracy: 0.5248 - val_loss: 0.6931 - val_accuracy: 0.5738\n",
            "Epoch 38/50\n",
            "242/242 [==============================] - 0s 77us/step - loss: 0.6931 - accuracy: 0.5248 - val_loss: 0.6931 - val_accuracy: 0.5738\n",
            "Epoch 39/50\n",
            "242/242 [==============================] - 0s 90us/step - loss: 0.6931 - accuracy: 0.5248 - val_loss: 0.6931 - val_accuracy: 0.5738\n",
            "Epoch 40/50\n",
            "242/242 [==============================] - 0s 82us/step - loss: 0.6931 - accuracy: 0.5248 - val_loss: 0.6931 - val_accuracy: 0.5738\n",
            "Epoch 41/50\n",
            "242/242 [==============================] - 0s 81us/step - loss: 0.6931 - accuracy: 0.5248 - val_loss: 0.6931 - val_accuracy: 0.5738\n",
            "Epoch 42/50\n",
            "242/242 [==============================] - 0s 83us/step - loss: 0.6931 - accuracy: 0.5248 - val_loss: 0.6931 - val_accuracy: 0.5738\n",
            "Epoch 43/50\n",
            "242/242 [==============================] - 0s 91us/step - loss: 0.6931 - accuracy: 0.5248 - val_loss: 0.6931 - val_accuracy: 0.5738\n",
            "Epoch 44/50\n",
            "242/242 [==============================] - 0s 92us/step - loss: 0.6931 - accuracy: 0.5248 - val_loss: 0.6931 - val_accuracy: 0.5738\n",
            "Epoch 45/50\n",
            "242/242 [==============================] - 0s 100us/step - loss: 0.6931 - accuracy: 0.5248 - val_loss: 0.6931 - val_accuracy: 0.5738\n",
            "Epoch 46/50\n",
            "242/242 [==============================] - 0s 94us/step - loss: 0.6931 - accuracy: 0.5248 - val_loss: 0.6931 - val_accuracy: 0.5738\n",
            "Epoch 47/50\n",
            "242/242 [==============================] - 0s 85us/step - loss: 0.6931 - accuracy: 0.5248 - val_loss: 0.6931 - val_accuracy: 0.5738\n",
            "Epoch 48/50\n",
            "242/242 [==============================] - 0s 90us/step - loss: 0.6931 - accuracy: 0.5248 - val_loss: 0.6931 - val_accuracy: 0.5738\n",
            "Epoch 49/50\n",
            "242/242 [==============================] - 0s 84us/step - loss: 0.6931 - accuracy: 0.5248 - val_loss: 0.6931 - val_accuracy: 0.5738\n",
            "Epoch 50/50\n",
            "242/242 [==============================] - 0s 84us/step - loss: 0.6931 - accuracy: 0.5248 - val_loss: 0.6931 - val_accuracy: 0.5738\n"
          ],
          "name": "stdout"
        },
        {
          "output_type": "execute_result",
          "data": {
            "text/plain": [
              "<keras.callbacks.callbacks.History at 0x7fd81e214e80>"
            ]
          },
          "metadata": {
            "tags": []
          },
          "execution_count": 162
        }
      ]
    },
    {
      "cell_type": "code",
      "metadata": {
        "id": "sK_Fc7ehzmMq",
        "colab": {
          "base_uri": "https://localhost:8080/",
          "height": 102
        },
        "outputId": "907f41bd-cb1b-4bdb-9e3c-c26996b81c50"
      },
      "source": [
        "#statisti: 2\n",
        "#Create Grid Search\n",
        "grid = GridSearchCV(estimator=model, param_grid=param_grid, n_jobs=1)\n",
        "grid_result = grid.fit(X_train, y_train)\n",
        "\n",
        "# Report Results\n",
        "print(f\"Best: {grid_result.best_score_} using {grid_result.best_params_}\")\n",
        "means = grid_result.cv_results_['mean_test_score']\n",
        "stds = grid_result.cv_results_['std_test_score']\n",
        "params = grid_result.cv_results_['params']\n",
        "for mean, stdev, param in zip(means, stds, params):\n",
        "    print(f\"Means: {mean}, Stdev: {stdev} with: {param}\")"
      ],
      "execution_count": null,
      "outputs": [
        {
          "output_type": "stream",
          "text": [
            "Best: 0.48741496205329893 using {'batch_size': 50, 'epochs': 10}\n",
            "Means: 0.4343537390232086, Stdev: 0.050968367558376144 with: {'batch_size': 5, 'epochs': 10}\n",
            "Means: 0.44268707036972044, Stdev: 0.06018665899217808 with: {'batch_size': 10, 'epochs': 10}\n",
            "Means: 0.48741496205329893, Stdev: 0.08215121966032414 with: {'batch_size': 50, 'epochs': 10}\n",
            "Means: 0.48741496205329893, Stdev: 0.08215121966032414 with: {'batch_size': 100, 'epochs': 10}\n"
          ],
          "name": "stdout"
        }
      ]
    }
  ]
}