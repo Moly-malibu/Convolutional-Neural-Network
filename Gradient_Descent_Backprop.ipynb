{
  "nbformat": 4,
  "nbformat_minor": 0,
  "metadata": {
    "kernelspec": {
      "display_name": "U4-S2-NN (Python3)",
      "language": "python",
      "name": "u4-s2-nn"
    },
    "language_info": {
      "codemirror_mode": {
        "name": "ipython",
        "version": 3
      },
      "file_extension": ".py",
      "mimetype": "text/x-python",
      "name": "python",
      "nbconvert_exporter": "python",
      "pygments_lexer": "ipython3",
      "version": "3.7.0"
    },
    "colab": {
      "name": "Gradient_Descent_Backprop.ipynb",
      "provenance": []
    }
  },
  "cells": [
    {
      "cell_type": "markdown",
      "metadata": {
        "toc-hr-collapsed": true,
        "id": "v4g1uTS3T4yQ"
      },
      "source": [
        "# Backpropagation & Gradient Descent (Prepare)"
      ]
    },
    {
      "cell_type": "markdown",
      "metadata": {
        "id": "tQg_9hMxT4yQ"
      },
      "source": [
        "## Learning Objectives\n",
        "* <a href=\"#p1\">Part 1</a>: Explain the intutition behind backproprogation\n",
        "* <a href=\"#p2\">Part 2</a>: Implement gradient descent + backpropagation on a feedforward neural network. "
      ]
    },
    {
      "cell_type": "markdown",
      "metadata": {
        "id": "ULnI7W11T4yR"
      },
      "source": [
        "## Summary of Yesterday\n",
        "\n",
        "Yesterday, we learned about some of the principal components of Neural Networks: Neurons, Weights, Activation Functions, and layers (input, output, & hidden). Today, we will reinforce our understanding of those components and introduce the mechanics of training a neural network. Feed-forward neural networks, such as multi-layer perceptrons (MLPs), are almost always trained using some variation of gradient descent where the gradient has been calculated by backpropagation.\n",
        "\n",
        "<center><img src=\"https://cdn-images-1.medium.com/max/1600/1*_M4bZyuwaGby6KMiYVYXvg.jpeg\" width=\"400\"></center>\n",
        "\n",
        "- There are three kinds of layers: input, hidden, and output layers.\n",
        "- Each layer is made up of **n** individual neurons (aka activation units) which have a corresponding weight and bias.\n",
        "- Signal is passed from layer to layer through a network by:\n",
        " - Taking in inputs from the training data (or previous layer)\n",
        " - Multiplying each input by its corresponding weight (think arrow/connecting line)\n",
        " - Adding a bias to this weighted some of inputs and weights\n",
        " - Activating this weighted sum + bias by squishifying it with sigmoid or some other activation function. With a single perceptron with three inputs, calculating the output from the node is done like so:\n",
        "\\begin{align}\n",
        " y = sigmoid(\\sum(weight_{1}input_{1} + weight_{2}input_{2} + weight_{3}input_{3}) + bias)\n",
        "\\end{align}\n",
        " - this final activated value is the signal that gets passed onto the next layer of the network.\n",
        " \n",
        " "
      ]
    },
    {
      "cell_type": "markdown",
      "metadata": {
        "id": "FkEBUxzJT4yR"
      },
      "source": [
        "## Training a Neural Network: *Formal Summary*\n",
        "\n",
        "0. Pick a network architecture\n",
        "   - No. of input units = No. of features\n",
        "   - No. of output units = Number of Classes (or expected targets)\n",
        "   - Select the number of hidden layers and number of neurons within each hidden layer\n",
        "1. Randomly initialize weights\n",
        "2. Implement forward propagation to get $h_{\\theta}(x^{(i)})$ for any $x^{(i)}$\n",
        "3. Implement code to compute a cost function $J(\\theta)$\n",
        "4. Implement backpropagation to compute partial derivatives $\\frac{\\delta}{\\delta\\theta_{jk}^{l}}{J(\\theta)}$\n",
        "5. Use gradient descent (or other advanced optimizer) with backpropagation to minimize $J(\\theta)$ as a function of parameters $\\theta\\$\n",
        "6. Repeat steps 2 - 5 until cost function is 'minimized' or some other stopping criteria is met. One pass over steps 2 - 5 is called an iteration or epoch."
      ]
    },
    {
      "cell_type": "markdown",
      "metadata": {
        "toc-hr-collapsed": false,
        "id": "EJJwEO2XT4yS"
      },
      "source": [
        "## Calculating *\"cost\"*, *\"loss\"* or *\"error\"*\n",
        "\n",
        "We've talked about how in order to evaluate a network's performance, the data is \"fed forward\" until predictions are obtained and then the \"loss\" or \"error\" for a given observation is ascertained by looking at what the network predicted for that observation and comparing it to what it *should* have predicted. \n",
        "\n",
        "The error for a given observation is calculated by taking the square of the difference between the predicted value and the actual value. \n",
        "\n",
        "We can summarize the overall quality of a network's predictions by finding the average error across all observations. This gives us the \"Mean Squared Error.\" which hopefully is a fairly familiar model evaluation metric by now. Graphing the MSE over each epoch (training cycle) is a common practice with Neural Networks. This is what you're seeing in the top right corner of the Tensorflow Playground website as the number of \"epochs\" climbs higher and higher."
      ]
    },
    {
      "cell_type": "markdown",
      "metadata": {
        "id": "leULfH99T4yS"
      },
      "source": [
        "## What is an \"Epoch\"?\n",
        "\n",
        "An \"Epoch\" is one cycle of passing our data forward through the network, measuring error given our specified cost function, and then -via gradient descent- updating weights within our network to hopefully improve the quality of our predictions on the next iteration."
      ]
    },
    {
      "cell_type": "markdown",
      "metadata": {
        "id": "yOlzLhFCT4yS"
      },
      "source": [
        "### Batch vs Minibatch vs Stochastic Gradient Descent Epochs\n",
        "\n",
        "You may have heard these variations on the training process referenced in the 3Blue1Brown videos about backpropagation. \"Minibatch\" Gradient Descent means that instead of passing all of our data through the network for a given epoch (Batch GD), we just pass a randomized portion of our data through the network for each epoch. \n",
        "\n",
        "Stochastic Gradient Descent is when we make updates to our weights after forward propagating each individual training observation."
      ]
    },
    {
      "cell_type": "markdown",
      "metadata": {
        "id": "oupViKdWT4yT"
      },
      "source": [
        "### A note about Hyperparameters\n",
        "\n",
        "Neural Networks have many more hyperparameters than other machine learning algorithms which is part of what makes them a beast to train.\n",
        "\n",
        "1. You need more data to train them on. \n",
        "2. They're complex so they take longer to train. \n",
        "3. They have lots and lots of hyperparameters which we need to find the most optimal combination of, so we might end up training our model dozens or hundreds of times with different combinations of hyperparameters in order to try and squeeze out a few more tenths of a percent of accuracy. "
      ]
    },
    {
      "cell_type": "markdown",
      "metadata": {
        "id": "aM4CK1IarId4",
        "toc-hr-collapsed": false
      },
      "source": [
        "# Backpropagation (Learn)\n",
        "<a id=\"p1\"></a>"
      ]
    },
    {
      "cell_type": "markdown",
      "metadata": {
        "toc-hr-collapsed": false,
        "id": "XZMbTo9lT4yT"
      },
      "source": [
        "## Overview\n",
        "\n",
        "Backpropagation is short for [\"Backwards Propagation of errors\"](https://en.wikipedia.org/wiki/Backpropagation) and refers to a specific (rather calculus intensive) algorithm for how weights in a neural network are updated in reverse order at the end of each training epoch. Our purpose today is to demonstrate the backpropagation algorithm on a simple Feedforward Neural Network and in so doing help you get a grasp on the main process. If you want to understand all of the underlying calculus of how the gradients are calculated then you'll need to dive into it yourself, [3Blue1Brown's video is a great starting place](https://www.youtube.com/watch?v=tIeHLnjs5U8). I also highly recommend this Welch Labs series [Neural Networks Demystified](https://www.youtube.com/watch?v=bxe2T-V8XRs) if you want a rapid yet orderly walkthrough of the main intuitions and math behind the backpropagation algorithm. "
      ]
    },
    {
      "cell_type": "markdown",
      "metadata": {
        "id": "VATV3RbzT4yU"
      },
      "source": [
        "### What is a Gradient?\n",
        "\n",
        "> In vector calculus, the gradient is a multi-variable generalization of the derivative. \n",
        "\n",
        "The gradients that we will deal with today will be vector representations of the derivative of the activation function. "
      ]
    },
    {
      "cell_type": "markdown",
      "metadata": {
        "toc-hr-collapsed": false,
        "id": "KfLuVUEET4yU"
      },
      "source": [
        "## Follow Along\n",
        "\n",
        "In this section, we will again implement a multi-layer perceptron using numpy. We'll focus on using a __Feed Forward Neural Network__ to predict test scores. "
      ]
    },
    {
      "cell_type": "markdown",
      "metadata": {
        "id": "Dm2HPETcrgy6",
        "toc-hr-collapsed": true
      },
      "source": [
        "![231 Neural Network](https://cdn-images-1.medium.com/max/1600/1*IjY3wFF24sK9UhiOlf36Bw.png)"
      ]
    },
    {
      "cell_type": "markdown",
      "metadata": {
        "id": "4d4tzpwO6B47"
      },
      "source": [
        "### Generate some Fake Data"
      ]
    },
    {
      "cell_type": "code",
      "metadata": {
        "id": "ERyVgeO_IWyV"
      },
      "source": [
        "import numpy as np\n",
        "\n",
        "np.random.seed(812)\n",
        "\n",
        "# hours studying, hours sleep\n",
        "X = np.array(([2,9],\n",
        "              [1,5],\n",
        "              [3,6]), dtype=float)\n",
        "\n",
        "# Exam Scores\n",
        "y = np.array(([90],\n",
        "              [72],\n",
        "              [80]), dtype=float)\n",
        "\n",
        "# y = 2 * study_hours + 4 * sleep_hours + 50\n",
        "# ^ what the network is trying to lean"
      ],
      "execution_count": null,
      "outputs": []
    },
    {
      "cell_type": "markdown",
      "metadata": {
        "id": "Y2_8N5uST4yW"
      },
      "source": [
        "### Feature Normalization"
      ]
    },
    {
      "cell_type": "code",
      "metadata": {
        "id": "cDeUBW6k4Ri4",
        "outputId": "ab04b139-fcbf-42ce-d844-5edee8f9d3c6"
      },
      "source": [
        "# Normalizing Data on feature \n",
        "# Neural Network would probably do this on its own, but it will help us converge on a solution faster\n",
        "X = X / np.amax(X, axis=0)\n",
        "y = y / 100\n",
        "\n",
        "print(\"Studying, Sleeping \\n\", X)\n",
        "print(\"Test Score \\n\", y)"
      ],
      "execution_count": null,
      "outputs": [
        {
          "output_type": "stream",
          "text": [
            "Studying, Sleeping \n",
            " [[0.66666667 1.        ]\n",
            " [0.33333333 0.55555556]\n",
            " [1.         0.66666667]]\n",
            "Test Score \n",
            " [[0.9 ]\n",
            " [0.72]\n",
            " [0.8 ]]\n"
          ],
          "name": "stdout"
        }
      ]
    },
    {
      "cell_type": "markdown",
      "metadata": {
        "id": "bgTf6vTS69Sw"
      },
      "source": [
        "### Neural Network Architecture\n",
        "Lets create a Neural_Network class to contain this functionality"
      ]
    },
    {
      "cell_type": "code",
      "metadata": {
        "id": "RUI8VSR5zyBv"
      },
      "source": [
        "class NeuralNetwork:\n",
        "    def __init__(self):\n",
        "        # Setup arch\n",
        "        self.inputs = 2\n",
        "        self.hiddenNodes = 3\n",
        "        self.outputNodes = 1\n",
        "        \n",
        "        # Initialize weights\n",
        "        # 2 inputs nodes x 3 hidden nodes\n",
        "        self.weights1 = np.random.randn(self.inputs, self.hiddenNodes)\n",
        "        \n",
        "        # 3 hidden nodes x 1 output node\n",
        "        self.weights2 = np.random.randn(self.hiddenNodes, self.outputNodes)      "
      ],
      "execution_count": null,
      "outputs": []
    },
    {
      "cell_type": "markdown",
      "metadata": {
        "id": "gbyT_FJ88IlK"
      },
      "source": [
        "### Randomly Initialize Weights\n",
        "How many random weights do we need to initialize? \"Fully-connected Layers\""
      ]
    },
    {
      "cell_type": "code",
      "metadata": {
        "id": "IreIDe6P8H0H"
      },
      "source": [
        "nn = NeuralNetwork()"
      ],
      "execution_count": null,
      "outputs": []
    },
    {
      "cell_type": "code",
      "metadata": {
        "id": "CoKbWw24T4yY",
        "outputId": "e639c2ea-7726-4e71-a893-10b065ff4c72"
      },
      "source": [
        "print(\"Layer 1 weights: \\n\", nn.weights1)\n",
        "print(\"Layer 2 weights: \\n\", nn.weights2)"
      ],
      "execution_count": null,
      "outputs": [
        {
          "output_type": "stream",
          "text": [
            "Layer 1 weights: \n",
            " [[ 2.48783189  0.11697987 -1.97118428]\n",
            " [-0.48325593 -1.50361209  0.57515126]]\n",
            "Layer 2 weights: \n",
            " [[-0.20672583]\n",
            " [ 0.41271104]\n",
            " [-0.57757999]]\n"
          ],
          "name": "stdout"
        }
      ]
    },
    {
      "cell_type": "markdown",
      "metadata": {
        "id": "hbxDhyjQ-RwS"
      },
      "source": [
        "### Implement Feedforward Functionality\n",
        "\n",
        "After this step our neural network should be able to generate an output even though it has not been trained."
      ]
    },
    {
      "cell_type": "code",
      "metadata": {
        "id": "0gGivpEk-VdP"
      },
      "source": [
        "class NeuralNetwork:\n",
        "    def __init__(self):\n",
        "        # Setup arch\n",
        "        self.inputs = 2\n",
        "        self.hiddenNodes = 3\n",
        "        self.outputNodes = 1\n",
        "        \n",
        "        # Initialize weights\n",
        "        # 2 inputs nodes x 3 hidden nodes\n",
        "        self.weights1 = np.random.randn(self.inputs, self.hiddenNodes)\n",
        "        \n",
        "        # 3 hidden nodes x 1 output node\n",
        "        self.weights2 = np.random.randn(self.hiddenNodes, self.outputNodes)      \n",
        "    \n",
        "    def sigmoid(self, s):\n",
        "        return 1 / (1 + np.exp(-s))\n",
        "    \n",
        "    def feed_forward(self, X):\n",
        "        \"\"\"Calculate the NN inference using feed forward\"\"\"\n",
        "        # Weighted sum\n",
        "        self.hidden_sum = np.dot(X, self.weights1)\n",
        "        \n",
        "        # Activation\n",
        "        self.activated_hidden = self.sigmoid(self.hidden_sum)\n",
        "        \n",
        "        # Weighted sum 2\n",
        "        self.output_sum = np.dot(self.activated_hidden, self.weights2)\n",
        "        \n",
        "        # Final Output\n",
        "        self.activated_output = self.sigmoid(self.output_sum)\n",
        "        \n",
        "        return self.activated_output\n",
        "    "
      ],
      "execution_count": null,
      "outputs": []
    },
    {
      "cell_type": "code",
      "metadata": {
        "id": "79rMLaSMT4yY",
        "outputId": "0e2c97a2-664d-498c-b2c9-a18cf43aa660"
      },
      "source": [
        "X"
      ],
      "execution_count": null,
      "outputs": [
        {
          "output_type": "execute_result",
          "data": {
            "text/plain": [
              "array([[0.66666667, 1.        ],\n",
              "       [0.33333333, 0.55555556],\n",
              "       [1.        , 0.66666667]])"
            ]
          },
          "metadata": {
            "tags": []
          },
          "execution_count": 28
        }
      ]
    },
    {
      "cell_type": "markdown",
      "metadata": {
        "id": "a1pxdfmDAaJg"
      },
      "source": [
        "### Make a Prediction"
      ]
    },
    {
      "cell_type": "code",
      "metadata": {
        "id": "ThcZCzsRT4yZ",
        "outputId": "bd4391bb-23ef-446f-e150-500be56737c7"
      },
      "source": [
        "# Try to make a prediction with our updated 'net\n",
        "\n",
        "nn = NeuralNetwork()\n",
        "output = nn.feed_forward(X[0])\n",
        "print(\"intput\", X[0])\n",
        "print(\"output\", output)"
      ],
      "execution_count": null,
      "outputs": [
        {
          "output_type": "stream",
          "text": [
            "intput [0.66666667 1.        ]\n",
            "output [0.25814933]\n"
          ],
          "name": "stdout"
        }
      ]
    },
    {
      "cell_type": "markdown",
      "metadata": {
        "id": "3V61yNmAB2T5"
      },
      "source": [
        "### Calculate Error"
      ]
    },
    {
      "cell_type": "code",
      "metadata": {
        "id": "CnTCilQYT4ya",
        "outputId": "295d2ff6-9fbf-4b60-f05a-c7257d07e4e6"
      },
      "source": [
        "error = y[0] - output\n",
        "print(error)"
      ],
      "execution_count": null,
      "outputs": [
        {
          "output_type": "stream",
          "text": [
            "[0.64185067]\n"
          ],
          "name": "stdout"
        }
      ]
    },
    {
      "cell_type": "code",
      "metadata": {
        "id": "19yd4rzST4ya",
        "outputId": "0f274427-6061-4e94-a051-914d00299e67"
      },
      "source": [
        "output_all = nn.feed_forward(X)\n",
        "error_all = y - output_all\n",
        "print(output_all)\n",
        "print(error_all)"
      ],
      "execution_count": null,
      "outputs": [
        {
          "output_type": "stream",
          "text": [
            "[[0.25814933]\n",
            " [0.33067192]\n",
            " [0.22642076]]\n",
            "[[0.64185067]\n",
            " [0.38932808]\n",
            " [0.57357924]]\n"
          ],
          "name": "stdout"
        }
      ]
    },
    {
      "cell_type": "markdown",
      "metadata": {
        "id": "26wgCLU0TLvy"
      },
      "source": [
        "Why is my error so big?\n",
        "\n",
        "My error is so big because my prediction is low.\n",
        "\n",
        "Why are my prediction low?\n",
        "\n",
        "Because either:\n",
        "\n",
        "  1) Second layer **weights** are low\n",
        "  \n",
        "  (or)\n",
        "  \n",
        "  2) Activations coming from the first layer are low\n",
        "  \n",
        "How are activations from the first layer determined? \n",
        "\n",
        "  1) By inputs - fixed\n",
        "  \n",
        "  2) by **weights** - variable\n",
        "  \n",
        "The only thing that I have control over throughout this process in order to increase the value of my final predictions is to either increase weights in layer 2 or increase weights in layer 1. \n",
        "\n",
        "Imagine that you could only change your weights by a fixed amount. Say you have .3 and you have to split that up and disperse it over your weights so as to increase your predictions as much as possible. (This isn't actually what happens, but it will help us identify which weights we would benefit the most from moving.)\n",
        "\n",
        "I need to increase weights of my model somewhere, I'll get the biggest bang for my buck if I increase weights in places where I'm already seeing high activation values -because they end up getting multiplied together before being passed to the sigmoid function. \n",
        "\n",
        "> \"Neurons that fire together, wire together\""
      ]
    },
    {
      "cell_type": "markdown",
      "metadata": {
        "id": "j_eyzItYIxgm"
      },
      "source": [
        "### Implement Backpropagation \n",
        "\n",
        "> *Assigning blame for bad predictions and delivering justice - repeatedly and a little bit at a time*\n",
        "\n",
        "What in our model could be causing our predictions to suck so bad? \n",
        "\n",
        "Well, we know that our inputs (X) and outputs (y) are correct, if they weren't then we would have bigger problems than understanding backpropagation.\n",
        "\n",
        "We also know that our activation function (sigmoid) is working correctly. It can't be blamed because it just does whatever we tell it to and transforms the data in a known way.\n",
        "\n",
        "So what are the potential culprits for these terrible predictions? The **weights** of our model. Here's the problem though. I have weights that exist in both layers of my model. How do I know if the weights in the first layer are to blame, or the second layer, or both? \n",
        "\n",
        "Lets investigate. And see if we can just eyeball what should be updated."
      ]
    },
    {
      "cell_type": "code",
      "metadata": {
        "id": "bkAtivIBT4ya",
        "outputId": "45b1685a-e5cc-425d-f78e-c8977bb7fd4a"
      },
      "source": [
        "attributes = ['weights1', 'hidden_sum', 'activated_hidden', 'weights2', 'activated_output']\n",
        "[print(i+'\\n', getattr(nn,i), '\\n'+'---'*3) for i in attributes if i[:2]!= '__'] "
      ],
      "execution_count": null,
      "outputs": [
        {
          "output_type": "stream",
          "text": [
            "weights1\n",
            " [[-1.75351135  1.23279898  0.24464757]\n",
            " [-0.06568225  0.30190098  0.79723428]] \n",
            "---------\n",
            "hidden_sum\n",
            " [[-1.23468981  1.12376697  0.96033266]\n",
            " [-0.62099392  0.57865576  0.52445712]\n",
            " [-1.79729952  1.4340663   0.77613709]] \n",
            "---------\n",
            "activated_hidden\n",
            " [[0.22536165 0.75468678 0.7231884 ]\n",
            " [0.34955543 0.64075804 0.6281894 ]\n",
            " [0.14218011 0.8075341  0.68484697]] \n",
            "---------\n",
            "weights2\n",
            " [[ 1.23073545]\n",
            " [-1.52187331]\n",
            " [-0.25502715]] \n",
            "---------\n",
            "activated_output\n",
            " [[0.25814933]\n",
            " [0.33067192]\n",
            " [0.22642076]] \n",
            "---------\n"
          ],
          "name": "stdout"
        },
        {
          "output_type": "execute_result",
          "data": {
            "text/plain": [
              "[None, None, None, None, None]"
            ]
          },
          "metadata": {
            "tags": []
          },
          "execution_count": 32
        }
      ]
    },
    {
      "cell_type": "markdown",
      "metadata": {
        "id": "16Ujj6vNYQyX"
      },
      "source": [
        "### Backpropagation (Simple Overview)\n",
        "\n",
        "Our model has 9 total weights (6 in the first layer, 3 in the last layer) that could be off.\n",
        "\n",
        "1) Calculate Error for a given each observation\n",
        "\n",
        "2) Does the error indicate that I'm overestimating or underestimating in my prediction?\n",
        "\n",
        "3) Look at final layer weights to get an idea for which weights are helping pass desirable signals and which are stifling desirable signals\n",
        "\n",
        "4) Also go to the previous layer and see what can be done to boost activations that are associated with helpful weights, and limit activations that are associated with unhelpful weights."
      ]
    },
    {
      "cell_type": "markdown",
      "metadata": {
        "toc-hr-collapsed": true,
        "id": "JNsXVF25T4yb"
      },
      "source": [
        "### Update Weights Based on Gradient\n",
        "\n",
        "Repeat steps 1-4 for every observation in a given batch, and then given the network's cost function, calculate its gradient using calculus and update weights associated with the (negative) gradient of the cost function. \n",
        "\n",
        "Remember that we have 9 weights in our network therefore the gradient that comes from our gradient descent calculation will be the vector that takes us in the most downward direction along some function in 9-dimensional hyperspace.\n",
        "\n",
        "\\begin{align}\n",
        "C(w1, w2, w3, w4, w5, w6, w7, w8, w9)\n",
        "\\end{align}\n",
        "\n",
        "You should also know that with neural networks it is common to have gradients that are not convex (like what we saw when we applied gradient descent to linear regression). Due to the high complexity of these models and their nonlinearity, it is common for gradient descent to get stuck in a local minimum, but there are ways to combat this:\n",
        "\n",
        "1) Stochastic Gradient Descent\n",
        "\n",
        "2) More advanced Gradient-Descent-based \"Optimizers\" - See Stretch Goals on assignment."
      ]
    },
    {
      "cell_type": "code",
      "metadata": {
        "id": "vKj1k8JaT4yb"
      },
      "source": [
        "# I want activations that correspond to negative weights to be lower\n",
        "# and activations that correspond to positive weights to be higher\n",
        "\n",
        "class NeuralNetwork:\n",
        "    def __init__(self):\n",
        "        # Setup arch\n",
        "        self.inputs = 2\n",
        "        self.hiddenNodes = 3\n",
        "        self.outputNodes = 1\n",
        "        \n",
        "        # Initialize weights\n",
        "        # 2 inputs nodes x 3 hidden nodes\n",
        "        self.weights1 = np.random.randn(self.inputs, self.hiddenNodes)\n",
        "        \n",
        "        # 3 hidden nodes x 1 output node\n",
        "        self.weights2 = np.random.randn(self.hiddenNodes, self.outputNodes)      \n",
        "    \n",
        "    def sigmoid(self, s):\n",
        "        return 1 / (1 + np.exp(-s))\n",
        "    \n",
        "    def sigmoidPrime(self, s):\n",
        "        sx = self.sigmoid(s)\n",
        "        return sx * (1 - sx)\n",
        "    \n",
        "    def feed_forward(self, X):\n",
        "        \"\"\"Calculate the NN inference using feed forward\"\"\"\n",
        "        # Weighted sum\n",
        "        self.hidden_sum = np.dot(X, self.weights1)\n",
        "        \n",
        "        # Activation\n",
        "        self.activated_hidden = self.sigmoid(self.hidden_sum)\n",
        "        \n",
        "        # Weighted sum 2\n",
        "        self.output_sum = np.dot(self.activated_hidden, self.weights2)\n",
        "        \n",
        "        # Final Output\n",
        "        self.activated_output = self.sigmoid(self.output_sum)\n",
        "        \n",
        "        return self.activated_output\n",
        "    \n",
        "    def backward(self, X, y, o):\n",
        "        \"\"\" back prop through the network\"\"\"\n",
        "        self.o_error = y - 0\n",
        "        \n",
        "        # apply derivative of sigmoid to error\n",
        "        self.o_delta = self.o_error * self.sigmoidPrime(self.output_sum)\n",
        "        \n",
        "        # z2 error: how much were our output layer weights off\n",
        "        self.z2_error = self.o_delta.dot(self.weights2.T)\n",
        "        \n",
        "        # z2 delta: how much were the weights off\n",
        "        self.z2_delta = self.z2_error * self.sigmoidPrime(self.hidden_sum)\n",
        "        \n",
        "        # batching goes here\n",
        "        # calculate partial gradient\n",
        "        \n",
        "        self.weights1 += X.T.dot(self.z2_delta) # adjusted first set (inputs => hidden) weights\n",
        "        self.weights2 += self.activated_hidden.T.dot(self.o_delta) #adjust 2nd set\n",
        "        \n",
        "    def train(self, X, y):\n",
        "        o = self.feed_forward(X)\n",
        "        self.backward(X, y, o)\n",
        "    "
      ],
      "execution_count": null,
      "outputs": []
    },
    {
      "cell_type": "markdown",
      "metadata": {
        "toc-hr-collapsed": true,
        "id": "QJG-9GLsT4yb"
      },
      "source": [
        "#### Let's look at the shape of the Gradient Componets\n"
      ]
    },
    {
      "cell_type": "code",
      "metadata": {
        "id": "5LgIFKXnT4yb"
      },
      "source": [
        "nn = NeuralNetwork()\n",
        "\n",
        "nn.train(X,y)"
      ],
      "execution_count": null,
      "outputs": []
    },
    {
      "cell_type": "markdown",
      "metadata": {
        "id": "sonzkqpST4yc"
      },
      "source": [
        "##### Our Error Associated with Each Observation \n",
        "aka how wrong were we?"
      ]
    },
    {
      "cell_type": "code",
      "metadata": {
        "id": "IsQGzB3rT4yc",
        "outputId": "7540fe62-9e17-4dbb-aa35-a21bba6a45fa"
      },
      "source": [
        "nn.o_error"
      ],
      "execution_count": null,
      "outputs": [
        {
          "output_type": "execute_result",
          "data": {
            "text/plain": [
              "array([[0.9 ],\n",
              "       [0.72],\n",
              "       [0.8 ]])"
            ]
          },
          "metadata": {
            "tags": []
          },
          "execution_count": 35
        }
      ]
    },
    {
      "cell_type": "markdown",
      "metadata": {
        "id": "ENWPSSljT4yc"
      },
      "source": [
        "##### 1st Gradient \n",
        "Simple interpretation - how much more sigmoid activation would have pushed us towards the right answer?\n",
        "\n",
        "`self.o_delta = self.o_error * self.sigmoidPrime(o)`"
      ]
    },
    {
      "cell_type": "code",
      "metadata": {
        "id": "dPjuaerfT4yc",
        "outputId": "b44abe3d-4753-449b-b8e1-fc270fb74f12"
      },
      "source": [
        "nn.o_delta"
      ],
      "execution_count": null,
      "outputs": [
        {
          "output_type": "execute_result",
          "data": {
            "text/plain": [
              "array([[0.18626388],\n",
              "       [0.13638099],\n",
              "       [0.15518823]])"
            ]
          },
          "metadata": {
            "tags": []
          },
          "execution_count": 36
        }
      ]
    },
    {
      "cell_type": "markdown",
      "metadata": {
        "id": "iY0wp0g7T4yc"
      },
      "source": [
        "##### 2nd Error\n",
        "Justice hasn't been served yet - tho. We still have neurons to blame. Let's go back another layer. \n",
        "\n",
        "`self.z2_error = self.o_delta.dot(self.weights2.T)`\n",
        "\n",
        "__Discussion:__ Why is this shape different?"
      ]
    },
    {
      "cell_type": "code",
      "metadata": {
        "id": "rpfUgjcMT4yc",
        "outputId": "d11115d5-c44e-4007-d730-91e6f3f48295"
      },
      "source": [
        "nn.z2_error"
      ],
      "execution_count": null,
      "outputs": [
        {
          "output_type": "execute_result",
          "data": {
            "text/plain": [
              "array([[-0.33196194, -0.2668658 ,  0.10560247],\n",
              "       [-0.24305998, -0.19539709,  0.07732132],\n",
              "       [-0.2765785 , -0.22234279,  0.0879841 ]])"
            ]
          },
          "metadata": {
            "tags": []
          },
          "execution_count": 37
        }
      ]
    },
    {
      "cell_type": "markdown",
      "metadata": {
        "id": "ESxzvUnfT4yd"
      },
      "source": [
        "##### 2nd Gradient\n",
        "For each observation, how much more sigmoid activation from this layer would have pushed us towards the right answer?\n",
        "\n",
        "`self.z2_delta = self.z2_error * self.sigmoidPrime(self.hidden_sum)`"
      ]
    },
    {
      "cell_type": "code",
      "metadata": {
        "id": "7gaut8APT4yd",
        "outputId": "b3d51a42-3f97-4c1c-ee01-31e21e3dc483"
      },
      "source": [
        "nn.z2_delta"
      ],
      "execution_count": null,
      "outputs": [
        {
          "output_type": "execute_result",
          "data": {
            "text/plain": [
              "array([[-0.07625977, -0.06175881,  0.02637884],\n",
              "       [-0.05882455, -0.0481251 ,  0.01933025],\n",
              "       [-0.06877084, -0.03607047,  0.02088526]])"
            ]
          },
          "metadata": {
            "tags": []
          },
          "execution_count": 38
        }
      ]
    },
    {
      "cell_type": "code",
      "metadata": {
        "id": "0kA55B3zT4yd",
        "outputId": "513bebd0-a066-46ad-c6fc-f41b3aad7ea9"
      },
      "source": [
        "X.T.shape == nn.weights1.shape"
      ],
      "execution_count": null,
      "outputs": [
        {
          "output_type": "execute_result",
          "data": {
            "text/plain": [
              "True"
            ]
          },
          "metadata": {
            "tags": []
          },
          "execution_count": 39
        }
      ]
    },
    {
      "cell_type": "markdown",
      "metadata": {
        "id": "d2Lfp6ssT4ye"
      },
      "source": [
        "##### Descent\n",
        "\n",
        "*Discussion:* Input to Hidden Weight Update\n",
        "- We multiply the gradient by the inputs. Why?\n",
        "- Why do we need to transpose the inputs? "
      ]
    },
    {
      "cell_type": "code",
      "metadata": {
        "id": "j7uqUoaXT4ye",
        "outputId": "813e99ad-46ad-40ac-9077-0ea4cddba594"
      },
      "source": [
        "X.T"
      ],
      "execution_count": null,
      "outputs": [
        {
          "output_type": "execute_result",
          "data": {
            "text/plain": [
              "array([[0.66666667, 0.33333333, 1.        ],\n",
              "       [1.        , 0.55555556, 0.66666667]])"
            ]
          },
          "metadata": {
            "tags": []
          },
          "execution_count": 40
        }
      ]
    },
    {
      "cell_type": "code",
      "metadata": {
        "id": "zhVXcFAoT4ye",
        "outputId": "07a79c86-4252-48aa-f600-719e2a82e1a5"
      },
      "source": [
        "X.T.dot(nn.z2_delta)"
      ],
      "execution_count": null,
      "outputs": [
        {
          "output_type": "execute_result",
          "data": {
            "text/plain": [
              "array([[-0.13921886, -0.09328471,  0.04491457],\n",
              "       [-0.1547873 , -0.11254196,  0.05104137]])"
            ]
          },
          "metadata": {
            "tags": []
          },
          "execution_count": 41
        }
      ]
    },
    {
      "cell_type": "markdown",
      "metadata": {
        "id": "HTZk0-6TT4ye"
      },
      "source": [
        "*Discussion:* Hidden to Output Weight Update\n",
        "- Why is output the shape 3x1? \n",
        "- We multiply the gradient by the inputs. Why?\n",
        "- Why do we need to transpose the inputs?"
      ]
    },
    {
      "cell_type": "code",
      "metadata": {
        "id": "BIndcI4lT4ye",
        "outputId": "1587e4df-0b90-413f-c9f2-b3ceec1af8d0"
      },
      "source": [
        "nn.activated_hidden.T.dot(nn.o_delta)"
      ],
      "execution_count": null,
      "outputs": [
        {
          "output_type": "execute_result",
          "data": {
            "text/plain": [
              "array([[0.20591348],\n",
              "       [0.15925011],\n",
              "       [0.21866884]])"
            ]
          },
          "metadata": {
            "tags": []
          },
          "execution_count": 43
        }
      ]
    },
    {
      "cell_type": "markdown",
      "metadata": {
        "id": "LEoH2vt7T4yf"
      },
      "source": [
        "### Train the Network (fo real this time)"
      ]
    },
    {
      "cell_type": "code",
      "metadata": {
        "id": "vXhgc-bTT4yf",
        "outputId": "abd5b7a7-70b5-49f0-e422-591eb6937e67"
      },
      "source": [
        "# Train my 'net\n",
        "nn = NeuralNetwork()\n",
        "\n",
        "# Number of Epochs / Iterations\n",
        "for i in range(10000):\n",
        "    if (i+1 in [1,2,3,4,5]) or ((i+1) % 1000 ==0):\n",
        "        print('+' + '---' * 3 + f'EPOCH {i+1}' + '---'*3 + '+')\n",
        "        print('Input: \\n', X)\n",
        "        print('Actual Output: \\n', y)\n",
        "        print('Predicted Output: \\n', str(nn.feed_forward(X)))\n",
        "        print(\"Loss: \\n\", str(np.mean(np.square(y - nn.feed_forward(X)))))\n",
        "    nn.train(X,y)"
      ],
      "execution_count": null,
      "outputs": [
        {
          "output_type": "stream",
          "text": [
            "+---------EPOCH 1---------+\n",
            "Input: \n",
            " [[0.66666667 1.        ]\n",
            " [0.33333333 0.55555556]\n",
            " [1.         0.66666667]]\n",
            "Actual Output: \n",
            " [[0.9 ]\n",
            " [0.72]\n",
            " [0.8 ]]\n",
            "Predicted Output: \n",
            " [[0.37771334]\n",
            " [0.41477855]\n",
            " [0.40348484]]\n",
            "Loss: \n",
            " 0.17438925217089843\n",
            "+---------EPOCH 2---------+\n",
            "Input: \n",
            " [[0.66666667 1.        ]\n",
            " [0.33333333 0.55555556]\n",
            " [1.         0.66666667]]\n",
            "Actual Output: \n",
            " [[0.9 ]\n",
            " [0.72]\n",
            " [0.8 ]]\n",
            "Predicted Output: \n",
            " [[0.55343834]\n",
            " [0.57112359]\n",
            " [0.57084432]]\n",
            "Loss: \n",
            " 0.06492716519690507\n",
            "+---------EPOCH 3---------+\n",
            "Input: \n",
            " [[0.66666667 1.        ]\n",
            " [0.33333333 0.55555556]\n",
            " [1.         0.66666667]]\n",
            "Actual Output: \n",
            " [[0.9 ]\n",
            " [0.72]\n",
            " [0.8 ]]\n",
            "Predicted Output: \n",
            " [[0.72412692]\n",
            " [0.71933521]\n",
            " [0.73030809]]\n",
            "Loss: \n",
            " 0.01192958210623387\n",
            "+---------EPOCH 4---------+\n",
            "Input: \n",
            " [[0.66666667 1.        ]\n",
            " [0.33333333 0.55555556]\n",
            " [1.         0.66666667]]\n",
            "Actual Output: \n",
            " [[0.9 ]\n",
            " [0.72]\n",
            " [0.8 ]]\n",
            "Predicted Output: \n",
            " [[0.83532617]\n",
            " [0.81802087]\n",
            " [0.83519514]]\n",
            "Loss: \n",
            " 0.005009831223900607\n",
            "+---------EPOCH 5---------+\n",
            "Input: \n",
            " [[0.66666667 1.        ]\n",
            " [0.33333333 0.55555556]\n",
            " [1.         0.66666667]]\n",
            "Actual Output: \n",
            " [[0.9 ]\n",
            " [0.72]\n",
            " [0.8 ]]\n",
            "Predicted Output: \n",
            " [[0.89434108]\n",
            " [0.87330706]\n",
            " [0.89209113]]\n",
            "Loss: \n",
            " 0.010671950895301726\n",
            "+---------EPOCH 1000---------+\n",
            "Input: \n",
            " [[0.66666667 1.        ]\n",
            " [0.33333333 0.55555556]\n",
            " [1.         0.66666667]]\n",
            "Actual Output: \n",
            " [[0.9 ]\n",
            " [0.72]\n",
            " [0.8 ]]\n",
            "Predicted Output: \n",
            " [[0.99991039]\n",
            " [0.99964087]\n",
            " [0.9998911 ]]\n",
            "Loss: \n",
            " 0.0427125182256425\n",
            "+---------EPOCH 2000---------+\n",
            "Input: \n",
            " [[0.66666667 1.        ]\n",
            " [0.33333333 0.55555556]\n",
            " [1.         0.66666667]]\n",
            "Actual Output: \n",
            " [[0.9 ]\n",
            " [0.72]\n",
            " [0.8 ]]\n",
            "Predicted Output: \n",
            " [[0.99995868]\n",
            " [0.99982002]\n",
            " [0.99994953]]\n",
            "Loss: \n",
            " 0.042756931263338384\n",
            "+---------EPOCH 3000---------+\n",
            "Input: \n",
            " [[0.66666667 1.        ]\n",
            " [0.33333333 0.55555556]\n",
            " [1.         0.66666667]]\n",
            "Actual Output: \n",
            " [[0.9 ]\n",
            " [0.72]\n",
            " [0.8 ]]\n",
            "Predicted Output: \n",
            " [[0.9999736 ]\n",
            " [0.99987991]\n",
            " [0.99996768]]\n",
            "Loss: \n",
            " 0.04277151991694514\n",
            "+---------EPOCH 4000---------+\n",
            "Input: \n",
            " [[0.66666667 1.        ]\n",
            " [0.33333333 0.55555556]\n",
            " [1.         0.66666667]]\n",
            "Actual Output: \n",
            " [[0.9 ]\n",
            " [0.72]\n",
            " [0.8 ]]\n",
            "Predicted Output: \n",
            " [[0.99998075]\n",
            " [0.9999099 ]\n",
            " [0.99997641]]\n",
            "Loss: \n",
            " 0.0427787561416357\n",
            "+---------EPOCH 5000---------+\n",
            "Input: \n",
            " [[0.66666667 1.        ]\n",
            " [0.33333333 0.55555556]\n",
            " [1.         0.66666667]]\n",
            "Actual Output: \n",
            " [[0.9 ]\n",
            " [0.72]\n",
            " [0.8 ]]\n",
            "Predicted Output: \n",
            " [[0.99998492]\n",
            " [0.99992791]\n",
            " [0.9999815 ]]\n",
            "Loss: \n",
            " 0.042783074132736916\n",
            "+---------EPOCH 6000---------+\n",
            "Input: \n",
            " [[0.66666667 1.        ]\n",
            " [0.33333333 0.55555556]\n",
            " [1.         0.66666667]]\n",
            "Actual Output: \n",
            " [[0.9 ]\n",
            " [0.72]\n",
            " [0.8 ]]\n",
            "Predicted Output: \n",
            " [[0.99998763]\n",
            " [0.99993993]\n",
            " [0.99998483]]\n",
            "Loss: \n",
            " 0.04278594084854199\n",
            "+---------EPOCH 7000---------+\n",
            "Input: \n",
            " [[0.66666667 1.        ]\n",
            " [0.33333333 0.55555556]\n",
            " [1.         0.66666667]]\n",
            "Actual Output: \n",
            " [[0.9 ]\n",
            " [0.72]\n",
            " [0.8 ]]\n",
            "Predicted Output: \n",
            " [[0.99998954]\n",
            " [0.99994852]\n",
            " [0.99998716]]\n",
            "Loss: \n",
            " 0.04278798167567748\n",
            "+---------EPOCH 8000---------+\n",
            "Input: \n",
            " [[0.66666667 1.        ]\n",
            " [0.33333333 0.55555556]\n",
            " [1.         0.66666667]]\n",
            "Actual Output: \n",
            " [[0.9 ]\n",
            " [0.72]\n",
            " [0.8 ]]\n",
            "Predicted Output: \n",
            " [[0.99999095]\n",
            " [0.99995496]\n",
            " [0.99998889]]\n",
            "Loss: \n",
            " 0.0427895080396003\n",
            "+---------EPOCH 9000---------+\n",
            "Input: \n",
            " [[0.66666667 1.        ]\n",
            " [0.33333333 0.55555556]\n",
            " [1.         0.66666667]]\n",
            "Actual Output: \n",
            " [[0.9 ]\n",
            " [0.72]\n",
            " [0.8 ]]\n",
            "Predicted Output: \n",
            " [[0.99999203]\n",
            " [0.99995997]\n",
            " [0.99999022]]\n",
            "Loss: \n",
            " 0.042790692384414526\n",
            "+---------EPOCH 10000---------+\n",
            "Input: \n",
            " [[0.66666667 1.        ]\n",
            " [0.33333333 0.55555556]\n",
            " [1.         0.66666667]]\n",
            "Actual Output: \n",
            " [[0.9 ]\n",
            " [0.72]\n",
            " [0.8 ]]\n",
            "Predicted Output: \n",
            " [[0.99999289]\n",
            " [0.99996398]\n",
            " [0.99999127]]\n",
            "Loss: \n",
            " 0.042791637889756845\n"
          ],
          "name": "stdout"
        }
      ]
    },
    {
      "cell_type": "markdown",
      "metadata": {
        "id": "kM-mHKxDT4yf"
      },
      "source": [
        "## Challenge\n",
        "\n",
        "In the module project, you will implement backpropagation inside a multi-layer perceptron (aka a feedforward neural network). "
      ]
    },
    {
      "cell_type": "markdown",
      "metadata": {
        "id": "bm6jbmG7T4yf"
      },
      "source": [
        "# Stochastic Gradient Descent (Learn)"
      ]
    },
    {
      "cell_type": "markdown",
      "metadata": {
        "id": "DaiqKOTNT4yf"
      },
      "source": [
        "## Overview\n",
        "\n",
        "The What - Stochastic Gradient Descent calculates an approximation of the gradient over the entire dataset by reviewing the predictions of a random sample. \n",
        "\n",
        "The Why - *Speed*. Calculating the gradient over the entire dataset is extremely expensive computationally. "
      ]
    },
    {
      "cell_type": "markdown",
      "metadata": {
        "id": "ZF7UE-KluPsX"
      },
      "source": [
        "## Follow Along\n",
        "\n",
        "A true Stochastic GD-based implementation from [Welch Labs](https://www.youtube.com/watch?v=bxe2T-V8XRs)"
      ]
    },
    {
      "cell_type": "code",
      "metadata": {
        "id": "KJh5fttuT4yg"
      },
      "source": [
        "class Neural_Network(object):\n",
        "    def __init__(self):        \n",
        "        #Define Hyperparameters\n",
        "        self.inputLayerSize = 2\n",
        "        self.outputLayerSize = 1\n",
        "        self.hiddenLayerSize = 3\n",
        "        \n",
        "        #Weights (parameters)\n",
        "        self.W1 = np.random.randn(self.inputLayerSize,self.hiddenLayerSize)\n",
        "        self.W2 = np.random.randn(self.hiddenLayerSize,self.outputLayerSize)\n",
        "        \n",
        "    def forward(self, X):\n",
        "        #Propogate inputs though network\n",
        "        self.z2 = np.dot(X, self.W1) # weighted sums of h2h\n",
        "        self.a2 = self.sigmoid(self.z2)\n",
        "        self.z3 = np.dot(self.a2, self.W2)\n",
        "        yHat = self.sigmoid(self.z3) \n",
        "        return yHat\n",
        "        \n",
        "    def sigmoid(self, z):\n",
        "        #Apply sigmoid activation function to scalar, vector, or matrix\n",
        "        return 1/(1+np.exp(-z))\n",
        "    \n",
        "    def sigmoidPrime(self,z):\n",
        "        #Gradient of sigmoid\n",
        "        return np.exp(-z)/((1+np.exp(-z))**2)\n",
        "    \n",
        "    def costFunction(self, X, y):\n",
        "        #Compute cost for given X,y, use weights already stored in class.\n",
        "        self.yHat = self.forward(X)\n",
        "        J = 0.5*sum((y-self.yHat)**2) # sqrt of sum of squared error\n",
        "        return J\n",
        "        \n",
        "    def costFunctionPrime(self, X, y):\n",
        "        #Compute derivative with respect to W and W2 for a given X and y:\n",
        "        self.yHat = self.forward(X)\n",
        "        \n",
        "        delta3 = np.multiply(-(y-self.yHat), self.sigmoidPrime(self.z3))\n",
        "        dJdW2 = np.dot(self.a2.T, delta3)\n",
        "        \n",
        "        delta2 = np.dot(delta3, self.W2.T)*self.sigmoidPrime(self.z2)\n",
        "        dJdW1 = np.dot(X.T, delta2)  \n",
        "        \n",
        "        return dJdW1, dJdW2\n",
        "    \n",
        "    #Helper Functions for interacting with other classes:\n",
        "    def getParams(self):\n",
        "        #Get W1 and W2 unrolled into vector:\n",
        "        params = np.concatenate((self.W1.ravel(), self.W2.ravel()))\n",
        "        return params\n",
        "    \n",
        "    def setParams(self, params):\n",
        "        #Set W1 and W2 using single paramater vector.\n",
        "        W1_start = 0\n",
        "        W1_end = self.hiddenLayerSize * self.inputLayerSize\n",
        "        self.W1 = np.reshape(params[W1_start:W1_end], (self.inputLayerSize , self.hiddenLayerSize))\n",
        "        W2_end = W1_end + self.hiddenLayerSize*self.outputLayerSize\n",
        "        self.W2 = np.reshape(params[W1_end:W2_end], (self.hiddenLayerSize, self.outputLayerSize))\n",
        "        \n",
        "    def computeGradients(self, X, y):\n",
        "        dJdW1, dJdW2 = self.costFunctionPrime(X, y)\n",
        "        return np.concatenate((dJdW1.ravel(), dJdW2.ravel()))"
      ],
      "execution_count": null,
      "outputs": []
    },
    {
      "cell_type": "code",
      "metadata": {
        "id": "uA9LaTgKr6rP"
      },
      "source": [
        "from scipy import optimize\n",
        "class trainer(object):\n",
        "    def __init__(self, N):\n",
        "        # Make Local reference to network:\n",
        "        self.N = N\n",
        "        \n",
        "    def callbackF(self, params):\n",
        "        self.N.setParams(params)\n",
        "        self.J.append(self.N.costFunction(self.X, self.y))   \n",
        "        \n",
        "    def costFunctionWrapper(self, params, X, y):\n",
        "        self.N.setParams(params)\n",
        "        cost = self.N.costFunction(X, y)\n",
        "        grad = self.N.computeGradients(X,y)\n",
        "        \n",
        "        return cost, grad\n",
        "        \n",
        "    def train(self, X, y):\n",
        "        # Make an internal variable for the callback function:\n",
        "        self.X = X\n",
        "        self.y = y\n",
        "\n",
        "        # Make empty list to store costs:\n",
        "        self.J = []\n",
        "        \n",
        "        params0 = self.N.getParams()\n",
        "\n",
        "        options = {'maxiter': 200, 'disp' : True}\n",
        "        _res = optimize.minimize(self.costFunctionWrapper, params0, jac=True, method='BFGS', \\\n",
        "                                 args=(X, y), options=options, callback=self.callbackF)\n",
        "\n",
        "        self.N.setParams(_res.x)\n",
        "        self.optimizationResults = _res"
      ],
      "execution_count": null,
      "outputs": []
    },
    {
      "cell_type": "code",
      "metadata": {
        "id": "g_kHb6Se1u9y"
      },
      "source": [
        "NN = Neural_Network()"
      ],
      "execution_count": null,
      "outputs": []
    },
    {
      "cell_type": "code",
      "metadata": {
        "id": "hYYVhFf4rn3q"
      },
      "source": [
        "T = trainer(NN)"
      ],
      "execution_count": null,
      "outputs": []
    },
    {
      "cell_type": "code",
      "metadata": {
        "colab": {
          "base_uri": "https://localhost:8080/",
          "height": 104
        },
        "id": "L-gYdVfgrysE",
        "outputId": "ae371bf9-692c-49b4-b165-8562dab9c06e"
      },
      "source": [
        "T.train(X,y)"
      ],
      "execution_count": null,
      "outputs": [
        {
          "output_type": "stream",
          "text": [
            "Optimization terminated successfully.\n",
            "         Current function value: 0.000000\n",
            "         Iterations: 69\n",
            "         Function evaluations: 87\n",
            "         Gradient evaluations: 87\n"
          ],
          "name": "stdout"
        }
      ]
    },
    {
      "cell_type": "code",
      "metadata": {
        "colab": {
          "base_uri": "https://localhost:8080/",
          "height": 121
        },
        "id": "Jyv_L8Z2sKOA",
        "outputId": "08725651-6d21-401b-85c0-3487370b8bc0"
      },
      "source": [
        "print(\"Predicted Output: \\n\" + str(NN.forward(X))) \n",
        "print(\"Loss: \\n\" + str(np.mean(np.square(y - NN.forward(X))))) # mean sum squared loss"
      ],
      "execution_count": null,
      "outputs": [
        {
          "output_type": "stream",
          "text": [
            "Predicted Output: \n",
            "[[0.89999999]\n",
            " [0.72000108]\n",
            " [0.7999988 ]]\n",
            "Loss: \n",
            "8.757967017003462e-13\n"
          ],
          "name": "stdout"
        }
      ]
    },
    {
      "cell_type": "code",
      "metadata": {
        "colab": {
          "base_uri": "https://localhost:8080/",
          "height": 361
        },
        "id": "Gtf9WI9FtGPk",
        "outputId": "d062b2a3-5a92-403e-8ce0-c070aa79907b"
      },
      "source": [
        "import matplotlib.pyplot as plt\n",
        "plt.plot(T.J)\n",
        "plt.xlabel('Iterations')\n",
        "plt.ylabel('Cost')\n",
        "plt.show()     "
      ],
      "execution_count": null,
      "outputs": [
        {
          "output_type": "display_data",
          "data": {
            "image/png": "[encoded data removed]",
            "text/plain": [
              "<Figure size 432x288 with 1 Axes>"
            ]
          },
          "metadata": {
            "tags": [],
            "needs_background": "light"
          }
        }
      ]
    },
    {
      "cell_type": "markdown",
      "metadata": {
        "id": "Vr4J8I4MT4yh"
      },
      "source": [
        "## Challenge\n",
        "\n",
        "This is a reference implementation for you to explore. You will not be expected to apply it to today's module project. "
      ]
    },
    {
      "cell_type": "code",
      "metadata": {
        "id": "y8O8YycCT4yh"
      },
      "source": [
        "# do the same thing in keras\n",
        "# y = 2 * study_hours + 4 * sleep_hours + 50\n",
        "\n",
        "import numpy as np\n",
        "\n",
        "from tensorflow.keras.layers import Dense\n",
        "from tensorflow.keras.models import Sequential\n"
      ],
      "execution_count": null,
      "outputs": []
    },
    {
      "cell_type": "code",
      "metadata": {
        "id": "tQNgSLOUT4yi"
      },
      "source": [
        "def make_samples(n=1000):\n",
        "    study = np.random.uniform(1, 5, (n, 1))\n",
        "    sleep = np.random.uniform(1, 6, (n, 1))\n",
        "    \n",
        "    y = 2 * study + 4 * sleep + 50\n",
        "    \n",
        "    X = np.append(study, sleep, axis=1)\n",
        "    \n",
        "    X = X / np.amax(X, axis=0)\n",
        "    y = y / 100\n",
        "    \n",
        "    return X, y"
      ],
      "execution_count": null,
      "outputs": []
    },
    {
      "cell_type": "code",
      "metadata": {
        "id": "Z0vws5ZGT4yi"
      },
      "source": [
        "X, y = make_samples()"
      ],
      "execution_count": null,
      "outputs": []
    },
    {
      "cell_type": "code",
      "metadata": {
        "id": "9Qalky10T4yi",
        "outputId": "e2a8ceb0-0e31-48f1-bf17-f3f6a8b39a4c"
      },
      "source": [
        "model = Sequential([\n",
        "    Dense(3, activation='sigmoid', input_dim=2),\n",
        "    Dense(1, activation='sigmoid')\n",
        "])\n",
        "\n",
        "model.compile(optimizer='sgd', loss='mse', metrics=['mae', 'mse'])\n",
        "\n",
        "results = model.fit(X, y, epochs=500)\n",
        "\n"
      ],
      "execution_count": null,
      "outputs": [
        {
          "output_type": "stream",
          "text": [
            "Train on 1000 samples\n",
            "Epoch 1/500\n",
            "1000/1000 [==============================] - 1s 713us/sample - loss: 0.0955 - mae: 0.3026 - mse: 0.0955\n",
            "Epoch 2/500\n",
            "1000/1000 [==============================] - 0s 49us/sample - loss: 0.0817 - mae: 0.2789 - mse: 0.0817\n",
            "Epoch 3/500\n",
            "1000/1000 [==============================] - 0s 47us/sample - loss: 0.0696 - mae: 0.2566 - mse: 0.0696\n",
            "Epoch 4/500\n",
            "1000/1000 [==============================] - 0s 47us/sample - loss: 0.0593 - mae: 0.2357 - mse: 0.0593\n",
            "Epoch 5/500\n",
            "1000/1000 [==============================] - 0s 47us/sample - loss: 0.0504 - mae: 0.2162 - mse: 0.0504\n",
            "Epoch 6/500\n",
            "1000/1000 [==============================] - 0s 45us/sample - loss: 0.0429 - mae: 0.1983 - mse: 0.0429\n",
            "Epoch 7/500\n",
            "1000/1000 [==============================] - 0s 48us/sample - loss: 0.0366 - mae: 0.1820 - mse: 0.0366\n",
            "Epoch 8/500\n",
            "1000/1000 [==============================] - 0s 45us/sample - loss: 0.0313 - mae: 0.1669 - mse: 0.0313\n",
            "Epoch 9/500\n",
            "1000/1000 [==============================] - 0s 46us/sample - loss: 0.0269 - mae: 0.1532 - mse: 0.0269\n",
            "Epoch 10/500\n",
            "1000/1000 [==============================] - 0s 47us/sample - loss: 0.0232 - mae: 0.1408 - mse: 0.0232\n",
            "Epoch 11/500\n",
            "1000/1000 [==============================] - 0s 47us/sample - loss: 0.0201 - mae: 0.1295 - mse: 0.0201\n",
            "Epoch 12/500\n",
            "1000/1000 [==============================] - 0s 46us/sample - loss: 0.0175 - mae: 0.1193 - mse: 0.0175\n",
            "Epoch 13/500\n",
            "1000/1000 [==============================] - 0s 46us/sample - loss: 0.0153 - mae: 0.1102 - mse: 0.0153\n",
            "Epoch 14/500\n",
            "1000/1000 [==============================] - 0s 45us/sample - loss: 0.0135 - mae: 0.1019 - mse: 0.0135\n",
            "Epoch 15/500\n",
            "1000/1000 [==============================] - 0s 48us/sample - loss: 0.0119 - mae: 0.0946 - mse: 0.0119\n",
            "Epoch 16/500\n",
            "1000/1000 [==============================] - 0s 46us/sample - loss: 0.0106 - mae: 0.0880 - mse: 0.0106\n",
            "Epoch 17/500\n",
            "1000/1000 [==============================] - 0s 46us/sample - loss: 0.0095 - mae: 0.0824 - mse: 0.0095\n",
            "Epoch 18/500\n",
            "1000/1000 [==============================] - 0s 49us/sample - loss: 0.0086 - mae: 0.0774 - mse: 0.0086\n",
            "Epoch 19/500\n",
            "1000/1000 [==============================] - 0s 47us/sample - loss: 0.0078 - mae: 0.0731 - mse: 0.0078\n",
            "Epoch 20/500\n",
            "1000/1000 [==============================] - 0s 45us/sample - loss: 0.0071 - mae: 0.0693 - mse: 0.0071\n",
            "Epoch 21/500\n",
            "1000/1000 [==============================] - 0s 46us/sample - loss: 0.0066 - mae: 0.0661 - mse: 0.0066\n",
            "Epoch 22/500\n",
            "1000/1000 [==============================] - 0s 49us/sample - loss: 0.0061 - mae: 0.0633 - mse: 0.0061\n",
            "Epoch 23/500\n",
            "1000/1000 [==============================] - 0s 46us/sample - loss: 0.0056 - mae: 0.0608 - mse: 0.0056\n",
            "Epoch 24/500\n",
            "1000/1000 [==============================] - 0s 46us/sample - loss: 0.0053 - mae: 0.0588 - mse: 0.0053\n",
            "Epoch 25/500\n",
            "1000/1000 [==============================] - 0s 46us/sample - loss: 0.0050 - mae: 0.0571 - mse: 0.0050\n",
            "Epoch 26/500\n",
            "1000/1000 [==============================] - 0s 51us/sample - loss: 0.0047 - mae: 0.0556 - mse: 0.0047\n",
            "Epoch 27/500\n",
            "1000/1000 [==============================] - 0s 47us/sample - loss: 0.0045 - mae: 0.0544 - mse: 0.0045\n",
            "Epoch 28/500\n",
            "1000/1000 [==============================] - 0s 48us/sample - loss: 0.0043 - mae: 0.0533 - mse: 0.0043\n",
            "Epoch 29/500\n",
            "1000/1000 [==============================] - 0s 48us/sample - loss: 0.0041 - mae: 0.0524 - mse: 0.0041\n",
            "Epoch 30/500\n",
            "1000/1000 [==============================] - 0s 49us/sample - loss: 0.0039 - mae: 0.0516 - mse: 0.0039\n",
            "Epoch 31/500\n",
            "1000/1000 [==============================] - 0s 46us/sample - loss: 0.0038 - mae: 0.0509 - mse: 0.0038\n",
            "Epoch 32/500\n",
            "1000/1000 [==============================] - 0s 50us/sample - loss: 0.0037 - mae: 0.0502 - mse: 0.0037\n",
            "Epoch 33/500\n",
            "1000/1000 [==============================] - 0s 46us/sample - loss: 0.0036 - mae: 0.0497 - mse: 0.0036\n",
            "Epoch 34/500\n",
            "1000/1000 [==============================] - 0s 46us/sample - loss: 0.0035 - mae: 0.0492 - mse: 0.0035\n",
            "Epoch 35/500\n",
            "1000/1000 [==============================] - 0s 51us/sample - loss: 0.0034 - mae: 0.0488 - mse: 0.0034\n",
            "Epoch 36/500\n",
            "1000/1000 [==============================] - 0s 47us/sample - loss: 0.0034 - mae: 0.0484 - mse: 0.0034\n",
            "Epoch 37/500\n",
            "1000/1000 [==============================] - 0s 49us/sample - loss: 0.0033 - mae: 0.0481 - mse: 0.0033\n",
            "Epoch 38/500\n",
            "1000/1000 [==============================] - 0s 49us/sample - loss: 0.0033 - mae: 0.0479 - mse: 0.0033\n",
            "Epoch 39/500\n",
            "1000/1000 [==============================] - 0s 46us/sample - loss: 0.0032 - mae: 0.0476 - mse: 0.0032\n",
            "Epoch 40/500\n",
            "1000/1000 [==============================] - 0s 45us/sample - loss: 0.0032 - mae: 0.0474 - mse: 0.0032\n",
            "Epoch 41/500\n",
            "1000/1000 [==============================] - 0s 51us/sample - loss: 0.0031 - mae: 0.0473 - mse: 0.0031\n",
            "Epoch 42/500\n",
            "1000/1000 [==============================] - 0s 49us/sample - loss: 0.0031 - mae: 0.0471 - mse: 0.0031\n",
            "Epoch 43/500\n",
            "1000/1000 [==============================] - 0s 45us/sample - loss: 0.0031 - mae: 0.0470 - mse: 0.0031\n",
            "Epoch 44/500\n",
            "1000/1000 [==============================] - 0s 45us/sample - loss: 0.0031 - mae: 0.0469 - mse: 0.0031\n",
            "Epoch 45/500\n",
            "1000/1000 [==============================] - 0s 49us/sample - loss: 0.0030 - mae: 0.0468 - mse: 0.0030\n",
            "Epoch 46/500\n",
            "1000/1000 [==============================] - 0s 46us/sample - loss: 0.0030 - mae: 0.0467 - mse: 0.0030\n",
            "Epoch 47/500\n",
            "1000/1000 [==============================] - 0s 48us/sample - loss: 0.0030 - mae: 0.0466 - mse: 0.0030\n",
            "Epoch 48/500\n",
            "1000/1000 [==============================] - 0s 47us/sample - loss: 0.0030 - mae: 0.0465 - mse: 0.0030\n",
            "Epoch 49/500\n",
            "1000/1000 [==============================] - 0s 46us/sample - loss: 0.0030 - mae: 0.0465 - mse: 0.0030\n",
            "Epoch 50/500\n",
            "1000/1000 [==============================] - 0s 49us/sample - loss: 0.0030 - mae: 0.0464 - mse: 0.0030\n",
            "Epoch 51/500\n",
            "1000/1000 [==============================] - 0s 47us/sample - loss: 0.0030 - mae: 0.0464 - mse: 0.0030\n",
            "Epoch 52/500\n",
            "1000/1000 [==============================] - 0s 48us/sample - loss: 0.0029 - mae: 0.0463 - mse: 0.0029\n",
            "Epoch 53/500\n",
            "1000/1000 [==============================] - 0s 46us/sample - loss: 0.0029 - mae: 0.0463 - mse: 0.0029\n",
            "Epoch 54/500\n",
            "1000/1000 [==============================] - 0s 46us/sample - loss: 0.0029 - mae: 0.0462 - mse: 0.0029\n",
            "Epoch 55/500\n",
            "1000/1000 [==============================] - 0s 47us/sample - loss: 0.0029 - mae: 0.0462 - mse: 0.0029\n",
            "Epoch 56/500\n",
            "1000/1000 [==============================] - 0s 47us/sample - loss: 0.0029 - mae: 0.0462 - mse: 0.0029\n",
            "Epoch 57/500\n",
            "1000/1000 [==============================] - 0s 49us/sample - loss: 0.0029 - mae: 0.0461 - mse: 0.0029\n",
            "Epoch 58/500\n",
            "1000/1000 [==============================] - 0s 47us/sample - loss: 0.0029 - mae: 0.0461 - mse: 0.0029\n",
            "Epoch 59/500\n",
            "1000/1000 [==============================] - 0s 50us/sample - loss: 0.0029 - mae: 0.0461 - mse: 0.0029\n",
            "Epoch 60/500\n",
            "1000/1000 [==============================] - 0s 51us/sample - loss: 0.0029 - mae: 0.0461 - mse: 0.0029\n",
            "Epoch 61/500\n",
            "1000/1000 [==============================] - 0s 46us/sample - loss: 0.0029 - mae: 0.0460 - mse: 0.0029\n",
            "Epoch 62/500\n",
            "1000/1000 [==============================] - 0s 49us/sample - loss: 0.0029 - mae: 0.0460 - mse: 0.0029\n",
            "Epoch 63/500\n",
            "1000/1000 [==============================] - 0s 46us/sample - loss: 0.0029 - mae: 0.0460 - mse: 0.0029\n",
            "Epoch 64/500\n",
            "1000/1000 [==============================] - 0s 48us/sample - loss: 0.0029 - mae: 0.0460 - mse: 0.0029\n",
            "Epoch 65/500\n",
            "1000/1000 [==============================] - 0s 46us/sample - loss: 0.0029 - mae: 0.0460 - mse: 0.0029\n",
            "Epoch 66/500\n",
            "1000/1000 [==============================] - 0s 46us/sample - loss: 0.0029 - mae: 0.0459 - mse: 0.0029\n",
            "Epoch 67/500\n",
            "1000/1000 [==============================] - 0s 47us/sample - loss: 0.0029 - mae: 0.0459 - mse: 0.0029\n",
            "Epoch 68/500\n",
            "1000/1000 [==============================] - 0s 46us/sample - loss: 0.0029 - mae: 0.0459 - mse: 0.0029\n",
            "Epoch 69/500\n",
            "1000/1000 [==============================] - 0s 51us/sample - loss: 0.0029 - mae: 0.0459 - mse: 0.0029\n",
            "Epoch 70/500\n",
            "1000/1000 [==============================] - 0s 51us/sample - loss: 0.0029 - mae: 0.0459 - mse: 0.0029\n",
            "Epoch 71/500\n",
            "1000/1000 [==============================] - 0s 53us/sample - loss: 0.0029 - mae: 0.0459 - mse: 0.0029\n",
            "Epoch 72/500\n",
            "1000/1000 [==============================] - 0s 52us/sample - loss: 0.0029 - mae: 0.0459 - mse: 0.0029\n",
            "Epoch 73/500\n",
            "1000/1000 [==============================] - 0s 51us/sample - loss: 0.0029 - mae: 0.0458 - mse: 0.0029\n",
            "Epoch 74/500\n",
            "1000/1000 [==============================] - 0s 52us/sample - loss: 0.0029 - mae: 0.0458 - mse: 0.0029\n",
            "Epoch 75/500\n",
            "1000/1000 [==============================] - 0s 52us/sample - loss: 0.0029 - mae: 0.0458 - mse: 0.0029\n",
            "Epoch 76/500\n",
            "1000/1000 [==============================] - 0s 52us/sample - loss: 0.0029 - mae: 0.0458 - mse: 0.0029\n",
            "Epoch 77/500\n",
            "1000/1000 [==============================] - 0s 51us/sample - loss: 0.0029 - mae: 0.0458 - mse: 0.0029\n",
            "Epoch 78/500\n",
            "1000/1000 [==============================] - 0s 49us/sample - loss: 0.0029 - mae: 0.0458 - mse: 0.0029\n",
            "Epoch 79/500\n",
            "1000/1000 [==============================] - 0s 49us/sample - loss: 0.0029 - mae: 0.0458 - mse: 0.0029\n",
            "Epoch 80/500\n",
            "1000/1000 [==============================] - 0s 46us/sample - loss: 0.0029 - mae: 0.0458 - mse: 0.0029\n",
            "Epoch 81/500\n",
            "1000/1000 [==============================] - 0s 51us/sample - loss: 0.0029 - mae: 0.0457 - mse: 0.0029\n",
            "Epoch 82/500\n",
            "1000/1000 [==============================] - 0s 49us/sample - loss: 0.0029 - mae: 0.0457 - mse: 0.0029\n",
            "Epoch 83/500\n",
            "1000/1000 [==============================] - 0s 53us/sample - loss: 0.0029 - mae: 0.0457 - mse: 0.0029\n",
            "Epoch 84/500\n",
            "1000/1000 [==============================] - 0s 46us/sample - loss: 0.0029 - mae: 0.0457 - mse: 0.0029\n",
            "Epoch 85/500\n",
            "1000/1000 [==============================] - 0s 46us/sample - loss: 0.0029 - mae: 0.0457 - mse: 0.0029\n",
            "Epoch 86/500\n",
            "1000/1000 [==============================] - 0s 49us/sample - loss: 0.0028 - mae: 0.0457 - mse: 0.0028\n",
            "Epoch 87/500\n",
            "1000/1000 [==============================] - 0s 47us/sample - loss: 0.0028 - mae: 0.0457 - mse: 0.0028\n",
            "Epoch 88/500\n",
            "1000/1000 [==============================] - 0s 45us/sample - loss: 0.0028 - mae: 0.0457 - mse: 0.0028\n",
            "Epoch 89/500\n",
            "1000/1000 [==============================] - 0s 47us/sample - loss: 0.0028 - mae: 0.0457 - mse: 0.0028\n",
            "Epoch 90/500\n",
            "1000/1000 [==============================] - 0s 49us/sample - loss: 0.0028 - mae: 0.0457 - mse: 0.0028\n",
            "Epoch 91/500\n",
            "1000/1000 [==============================] - 0s 49us/sample - loss: 0.0028 - mae: 0.0457 - mse: 0.0028\n",
            "Epoch 92/500\n",
            "1000/1000 [==============================] - 0s 48us/sample - loss: 0.0028 - mae: 0.0456 - mse: 0.0028\n",
            "Epoch 93/500\n",
            "1000/1000 [==============================] - 0s 47us/sample - loss: 0.0028 - mae: 0.0456 - mse: 0.0028\n",
            "Epoch 94/500\n",
            "1000/1000 [==============================] - 0s 49us/sample - loss: 0.0028 - mae: 0.0456 - mse: 0.0028\n",
            "Epoch 95/500\n",
            "1000/1000 [==============================] - 0s 46us/sample - loss: 0.0028 - mae: 0.0456 - mse: 0.0028\n",
            "Epoch 96/500\n",
            "1000/1000 [==============================] - 0s 45us/sample - loss: 0.0028 - mae: 0.0456 - mse: 0.0028\n",
            "Epoch 97/500\n",
            "1000/1000 [==============================] - 0s 46us/sample - loss: 0.0028 - mae: 0.0456 - mse: 0.0028\n",
            "Epoch 98/500\n",
            "1000/1000 [==============================] - 0s 46us/sample - loss: 0.0028 - mae: 0.0456 - mse: 0.0028\n",
            "Epoch 99/500\n",
            "1000/1000 [==============================] - 0s 48us/sample - loss: 0.0028 - mae: 0.0456 - mse: 0.0028\n",
            "Epoch 100/500\n",
            "1000/1000 [==============================] - 0s 47us/sample - loss: 0.0028 - mae: 0.0456 - mse: 0.0028\n",
            "Epoch 101/500\n",
            "1000/1000 [==============================] - 0s 48us/sample - loss: 0.0028 - mae: 0.0456 - mse: 0.0028\n",
            "Epoch 102/500\n",
            "1000/1000 [==============================] - 0s 52us/sample - loss: 0.0028 - mae: 0.0456 - mse: 0.0028\n",
            "Epoch 103/500\n",
            "1000/1000 [==============================] - 0s 54us/sample - loss: 0.0028 - mae: 0.0456 - mse: 0.0028\n",
            "Epoch 104/500\n",
            "1000/1000 [==============================] - 0s 51us/sample - loss: 0.0028 - mae: 0.0455 - mse: 0.0028\n",
            "Epoch 105/500\n",
            "1000/1000 [==============================] - 0s 50us/sample - loss: 0.0028 - mae: 0.0455 - mse: 0.0028\n",
            "Epoch 106/500\n",
            "1000/1000 [==============================] - 0s 54us/sample - loss: 0.0028 - mae: 0.0455 - mse: 0.0028\n",
            "Epoch 107/500\n",
            "1000/1000 [==============================] - 0s 51us/sample - loss: 0.0028 - mae: 0.0455 - mse: 0.0028\n",
            "Epoch 108/500\n",
            "1000/1000 [==============================] - 0s 50us/sample - loss: 0.0028 - mae: 0.0455 - mse: 0.0028\n",
            "Epoch 109/500\n",
            "1000/1000 [==============================] - 0s 53us/sample - loss: 0.0028 - mae: 0.0455 - mse: 0.0028\n",
            "Epoch 110/500\n",
            "1000/1000 [==============================] - 0s 48us/sample - loss: 0.0028 - mae: 0.0455 - mse: 0.0028\n",
            "Epoch 111/500\n",
            "1000/1000 [==============================] - 0s 48us/sample - loss: 0.0028 - mae: 0.0455 - mse: 0.0028\n",
            "Epoch 112/500\n",
            "1000/1000 [==============================] - 0s 49us/sample - loss: 0.0028 - mae: 0.0455 - mse: 0.0028\n",
            "Epoch 113/500\n",
            "1000/1000 [==============================] - 0s 48us/sample - loss: 0.0028 - mae: 0.0455 - mse: 0.0028\n",
            "Epoch 114/500\n",
            "1000/1000 [==============================] - 0s 48us/sample - loss: 0.0028 - mae: 0.0455 - mse: 0.0028\n",
            "Epoch 115/500\n",
            "1000/1000 [==============================] - 0s 48us/sample - loss: 0.0028 - mae: 0.0455 - mse: 0.0028\n",
            "Epoch 116/500\n",
            "1000/1000 [==============================] - 0s 49us/sample - loss: 0.0028 - mae: 0.0454 - mse: 0.0028\n",
            "Epoch 117/500\n",
            "1000/1000 [==============================] - 0s 47us/sample - loss: 0.0028 - mae: 0.0454 - mse: 0.0028\n",
            "Epoch 118/500\n",
            "1000/1000 [==============================] - 0s 47us/sample - loss: 0.0028 - mae: 0.0454 - mse: 0.0028\n",
            "Epoch 119/500\n",
            "1000/1000 [==============================] - 0s 49us/sample - loss: 0.0028 - mae: 0.0454 - mse: 0.0028\n",
            "Epoch 120/500\n",
            "1000/1000 [==============================] - 0s 54us/sample - loss: 0.0028 - mae: 0.0454 - mse: 0.0028\n",
            "Epoch 121/500\n",
            "1000/1000 [==============================] - 0s 53us/sample - loss: 0.0028 - mae: 0.0454 - mse: 0.0028\n",
            "Epoch 122/500\n",
            "1000/1000 [==============================] - 0s 54us/sample - loss: 0.0028 - mae: 0.0454 - mse: 0.0028\n",
            "Epoch 123/500\n",
            "1000/1000 [==============================] - 0s 52us/sample - loss: 0.0028 - mae: 0.0454 - mse: 0.0028\n",
            "Epoch 124/500\n",
            "1000/1000 [==============================] - 0s 55us/sample - loss: 0.0028 - mae: 0.0454 - mse: 0.0028\n",
            "Epoch 125/500\n",
            "1000/1000 [==============================] - 0s 51us/sample - loss: 0.0028 - mae: 0.0454 - mse: 0.0028\n",
            "Epoch 126/500\n",
            "1000/1000 [==============================] - 0s 48us/sample - loss: 0.0028 - mae: 0.0454 - mse: 0.0028\n",
            "Epoch 127/500\n",
            "1000/1000 [==============================] - 0s 46us/sample - loss: 0.0028 - mae: 0.0454 - mse: 0.0028\n",
            "Epoch 128/500\n",
            "1000/1000 [==============================] - 0s 47us/sample - loss: 0.0028 - mae: 0.0454 - mse: 0.0028\n",
            "Epoch 129/500\n",
            "1000/1000 [==============================] - 0s 48us/sample - loss: 0.0028 - mae: 0.0453 - mse: 0.0028\n",
            "Epoch 130/500\n",
            "1000/1000 [==============================] - 0s 48us/sample - loss: 0.0028 - mae: 0.0453 - mse: 0.0028\n",
            "Epoch 131/500\n",
            "1000/1000 [==============================] - 0s 47us/sample - loss: 0.0028 - mae: 0.0453 - mse: 0.0028\n",
            "Epoch 132/500\n",
            "1000/1000 [==============================] - 0s 47us/sample - loss: 0.0028 - mae: 0.0453 - mse: 0.0028\n",
            "Epoch 133/500\n",
            "1000/1000 [==============================] - 0s 52us/sample - loss: 0.0028 - mae: 0.0453 - mse: 0.0028\n",
            "Epoch 134/500\n",
            "1000/1000 [==============================] - 0s 52us/sample - loss: 0.0028 - mae: 0.0453 - mse: 0.0028\n",
            "Epoch 135/500\n",
            "1000/1000 [==============================] - 0s 50us/sample - loss: 0.0028 - mae: 0.0453 - mse: 0.0028\n",
            "Epoch 136/500\n",
            "1000/1000 [==============================] - 0s 51us/sample - loss: 0.0028 - mae: 0.0453 - mse: 0.0028\n",
            "Epoch 137/500\n",
            "1000/1000 [==============================] - 0s 50us/sample - loss: 0.0028 - mae: 0.0453 - mse: 0.0028\n",
            "Epoch 138/500\n",
            "1000/1000 [==============================] - 0s 52us/sample - loss: 0.0028 - mae: 0.0453 - mse: 0.0028\n",
            "Epoch 139/500\n",
            "1000/1000 [==============================] - 0s 49us/sample - loss: 0.0028 - mae: 0.0453 - mse: 0.0028\n",
            "Epoch 140/500\n",
            "1000/1000 [==============================] - 0s 49us/sample - loss: 0.0028 - mae: 0.0453 - mse: 0.0028\n",
            "Epoch 141/500\n",
            "1000/1000 [==============================] - 0s 48us/sample - loss: 0.0028 - mae: 0.0453 - mse: 0.0028\n",
            "Epoch 142/500\n",
            "1000/1000 [==============================] - 0s 48us/sample - loss: 0.0028 - mae: 0.0452 - mse: 0.0028\n",
            "Epoch 143/500\n",
            "1000/1000 [==============================] - 0s 49us/sample - loss: 0.0028 - mae: 0.0452 - mse: 0.0028\n",
            "Epoch 144/500\n",
            "1000/1000 [==============================] - 0s 54us/sample - loss: 0.0028 - mae: 0.0452 - mse: 0.0028\n",
            "Epoch 145/500\n",
            "1000/1000 [==============================] - 0s 52us/sample - loss: 0.0028 - mae: 0.0452 - mse: 0.0028\n",
            "Epoch 146/500\n",
            "1000/1000 [==============================] - 0s 50us/sample - loss: 0.0028 - mae: 0.0452 - mse: 0.0028\n",
            "Epoch 147/500\n",
            "1000/1000 [==============================] - 0s 54us/sample - loss: 0.0028 - mae: 0.0452 - mse: 0.0028\n",
            "Epoch 148/500\n",
            "1000/1000 [==============================] - 0s 53us/sample - loss: 0.0028 - mae: 0.0452 - mse: 0.0028\n",
            "Epoch 149/500\n",
            "1000/1000 [==============================] - 0s 50us/sample - loss: 0.0028 - mae: 0.0452 - mse: 0.0028\n",
            "Epoch 150/500\n",
            "1000/1000 [==============================] - 0s 49us/sample - loss: 0.0028 - mae: 0.0452 - mse: 0.0028\n",
            "Epoch 151/500\n",
            "1000/1000 [==============================] - 0s 49us/sample - loss: 0.0028 - mae: 0.0452 - mse: 0.0028\n",
            "Epoch 152/500\n",
            "1000/1000 [==============================] - 0s 52us/sample - loss: 0.0028 - mae: 0.0452 - mse: 0.0028\n",
            "Epoch 153/500\n",
            "1000/1000 [==============================] - 0s 50us/sample - loss: 0.0028 - mae: 0.0452 - mse: 0.0028\n",
            "Epoch 154/500\n",
            "1000/1000 [==============================] - 0s 50us/sample - loss: 0.0028 - mae: 0.0451 - mse: 0.0028\n",
            "Epoch 155/500\n",
            "1000/1000 [==============================] - 0s 50us/sample - loss: 0.0028 - mae: 0.0451 - mse: 0.0028\n",
            "Epoch 156/500\n",
            "1000/1000 [==============================] - 0s 47us/sample - loss: 0.0028 - mae: 0.0451 - mse: 0.0028\n",
            "Epoch 157/500\n",
            "1000/1000 [==============================] - 0s 46us/sample - loss: 0.0028 - mae: 0.0451 - mse: 0.0028\n",
            "Epoch 158/500\n",
            "1000/1000 [==============================] - 0s 49us/sample - loss: 0.0028 - mae: 0.0451 - mse: 0.0028\n",
            "Epoch 159/500\n",
            "1000/1000 [==============================] - 0s 51us/sample - loss: 0.0028 - mae: 0.0451 - mse: 0.0028\n",
            "Epoch 160/500\n",
            "1000/1000 [==============================] - 0s 51us/sample - loss: 0.0028 - mae: 0.0451 - mse: 0.0028\n",
            "Epoch 161/500\n",
            "1000/1000 [==============================] - 0s 53us/sample - loss: 0.0028 - mae: 0.0451 - mse: 0.0028\n",
            "Epoch 162/500\n",
            "1000/1000 [==============================] - 0s 51us/sample - loss: 0.0028 - mae: 0.0451 - mse: 0.0028\n",
            "Epoch 163/500\n",
            "1000/1000 [==============================] - 0s 54us/sample - loss: 0.0028 - mae: 0.0451 - mse: 0.0028\n",
            "Epoch 164/500\n",
            "1000/1000 [==============================] - 0s 54us/sample - loss: 0.0028 - mae: 0.0451 - mse: 0.0028\n",
            "Epoch 165/500\n",
            "1000/1000 [==============================] - 0s 51us/sample - loss: 0.0028 - mae: 0.0451 - mse: 0.0028\n",
            "Epoch 166/500\n",
            "1000/1000 [==============================] - 0s 51us/sample - loss: 0.0028 - mae: 0.0450 - mse: 0.0028\n",
            "Epoch 167/500\n",
            "1000/1000 [==============================] - 0s 52us/sample - loss: 0.0028 - mae: 0.0450 - mse: 0.0028\n",
            "Epoch 168/500\n",
            "1000/1000 [==============================] - 0s 49us/sample - loss: 0.0028 - mae: 0.0450 - mse: 0.0028\n",
            "Epoch 169/500\n",
            "1000/1000 [==============================] - 0s 48us/sample - loss: 0.0028 - mae: 0.0450 - mse: 0.0028\n",
            "Epoch 170/500\n",
            "1000/1000 [==============================] - 0s 53us/sample - loss: 0.0028 - mae: 0.0450 - mse: 0.0028\n",
            "Epoch 171/500\n",
            "1000/1000 [==============================] - 0s 51us/sample - loss: 0.0028 - mae: 0.0450 - mse: 0.0028\n",
            "Epoch 172/500\n",
            "1000/1000 [==============================] - 0s 51us/sample - loss: 0.0028 - mae: 0.0450 - mse: 0.0028\n",
            "Epoch 173/500\n",
            "1000/1000 [==============================] - 0s 48us/sample - loss: 0.0028 - mae: 0.0450 - mse: 0.0028\n",
            "Epoch 174/500\n",
            "1000/1000 [==============================] - 0s 47us/sample - loss: 0.0028 - mae: 0.0450 - mse: 0.0028\n",
            "Epoch 175/500\n",
            "1000/1000 [==============================] - 0s 47us/sample - loss: 0.0028 - mae: 0.0450 - mse: 0.0028\n",
            "Epoch 176/500\n",
            "1000/1000 [==============================] - 0s 50us/sample - loss: 0.0028 - mae: 0.0450 - mse: 0.0028\n",
            "Epoch 177/500\n",
            "1000/1000 [==============================] - 0s 47us/sample - loss: 0.0028 - mae: 0.0450 - mse: 0.0028\n",
            "Epoch 178/500\n",
            "1000/1000 [==============================] - 0s 49us/sample - loss: 0.0028 - mae: 0.0450 - mse: 0.0028\n",
            "Epoch 179/500\n",
            "1000/1000 [==============================] - 0s 47us/sample - loss: 0.0028 - mae: 0.0449 - mse: 0.0028\n",
            "Epoch 180/500\n",
            "1000/1000 [==============================] - 0s 47us/sample - loss: 0.0028 - mae: 0.0449 - mse: 0.0028\n",
            "Epoch 181/500\n",
            "1000/1000 [==============================] - 0s 46us/sample - loss: 0.0028 - mae: 0.0449 - mse: 0.0028\n",
            "Epoch 182/500\n",
            "1000/1000 [==============================] - 0s 49us/sample - loss: 0.0028 - mae: 0.0449 - mse: 0.0028\n",
            "Epoch 183/500\n",
            "1000/1000 [==============================] - 0s 46us/sample - loss: 0.0028 - mae: 0.0449 - mse: 0.0028\n",
            "Epoch 184/500\n",
            "1000/1000 [==============================] - 0s 46us/sample - loss: 0.0027 - mae: 0.0449 - mse: 0.0027\n",
            "Epoch 185/500\n",
            "1000/1000 [==============================] - 0s 53us/sample - loss: 0.0027 - mae: 0.0449 - mse: 0.0027\n",
            "Epoch 186/500\n",
            "1000/1000 [==============================] - 0s 54us/sample - loss: 0.0027 - mae: 0.0449 - mse: 0.0027\n",
            "Epoch 187/500\n",
            "1000/1000 [==============================] - 0s 53us/sample - loss: 0.0027 - mae: 0.0449 - mse: 0.0027\n",
            "Epoch 188/500\n",
            "1000/1000 [==============================] - 0s 50us/sample - loss: 0.0027 - mae: 0.0449 - mse: 0.0027\n",
            "Epoch 189/500\n",
            "1000/1000 [==============================] - 0s 48us/sample - loss: 0.0027 - mae: 0.0449 - mse: 0.0027\n",
            "Epoch 190/500\n",
            "1000/1000 [==============================] - 0s 52us/sample - loss: 0.0027 - mae: 0.0449 - mse: 0.0027\n",
            "Epoch 191/500\n",
            "1000/1000 [==============================] - 0s 46us/sample - loss: 0.0027 - mae: 0.0449 - mse: 0.0027\n",
            "Epoch 192/500\n",
            "1000/1000 [==============================] - 0s 51us/sample - loss: 0.0027 - mae: 0.0448 - mse: 0.0027\n",
            "Epoch 193/500\n",
            "1000/1000 [==============================] - 0s 49us/sample - loss: 0.0027 - mae: 0.0448 - mse: 0.0027\n",
            "Epoch 194/500\n",
            "1000/1000 [==============================] - 0s 49us/sample - loss: 0.0027 - mae: 0.0448 - mse: 0.0027\n",
            "Epoch 195/500\n",
            "1000/1000 [==============================] - 0s 50us/sample - loss: 0.0027 - mae: 0.0448 - mse: 0.0027\n",
            "Epoch 196/500\n",
            "1000/1000 [==============================] - 0s 51us/sample - loss: 0.0027 - mae: 0.0448 - mse: 0.0027\n",
            "Epoch 197/500\n",
            "1000/1000 [==============================] - 0s 52us/sample - loss: 0.0027 - mae: 0.0448 - mse: 0.0027\n",
            "Epoch 198/500\n",
            "1000/1000 [==============================] - 0s 49us/sample - loss: 0.0027 - mae: 0.0448 - mse: 0.0027\n",
            "Epoch 199/500\n",
            "1000/1000 [==============================] - 0s 52us/sample - loss: 0.0027 - mae: 0.0448 - mse: 0.0027\n",
            "Epoch 200/500\n",
            "1000/1000 [==============================] - 0s 48us/sample - loss: 0.0027 - mae: 0.0448 - mse: 0.0027\n",
            "Epoch 201/500\n",
            "1000/1000 [==============================] - 0s 50us/sample - loss: 0.0027 - mae: 0.0448 - mse: 0.0027\n",
            "Epoch 202/500\n",
            "1000/1000 [==============================] - 0s 48us/sample - loss: 0.0027 - mae: 0.0448 - mse: 0.0027\n",
            "Epoch 203/500\n",
            "1000/1000 [==============================] - 0s 55us/sample - loss: 0.0027 - mae: 0.0448 - mse: 0.0027\n",
            "Epoch 204/500\n",
            "1000/1000 [==============================] - 0s 52us/sample - loss: 0.0027 - mae: 0.0447 - mse: 0.0027\n",
            "Epoch 205/500\n",
            "1000/1000 [==============================] - 0s 48us/sample - loss: 0.0027 - mae: 0.0447 - mse: 0.0027\n",
            "Epoch 206/500\n",
            "1000/1000 [==============================] - 0s 46us/sample - loss: 0.0027 - mae: 0.0447 - mse: 0.0027\n",
            "Epoch 207/500\n",
            "1000/1000 [==============================] - 0s 49us/sample - loss: 0.0027 - mae: 0.0447 - mse: 0.0027\n",
            "Epoch 208/500\n",
            "1000/1000 [==============================] - 0s 49us/sample - loss: 0.0027 - mae: 0.0447 - mse: 0.0027\n",
            "Epoch 209/500\n",
            "1000/1000 [==============================] - 0s 56us/sample - loss: 0.0027 - mae: 0.0447 - mse: 0.0027\n",
            "Epoch 210/500\n",
            "1000/1000 [==============================] - 0s 51us/sample - loss: 0.0027 - mae: 0.0447 - mse: 0.0027\n",
            "Epoch 211/500\n",
            "1000/1000 [==============================] - 0s 49us/sample - loss: 0.0027 - mae: 0.0447 - mse: 0.0027\n",
            "Epoch 212/500\n",
            "1000/1000 [==============================] - 0s 50us/sample - loss: 0.0027 - mae: 0.0447 - mse: 0.0027\n",
            "Epoch 213/500\n",
            "1000/1000 [==============================] - 0s 48us/sample - loss: 0.0027 - mae: 0.0447 - mse: 0.0027\n",
            "Epoch 214/500\n",
            "1000/1000 [==============================] - 0s 57us/sample - loss: 0.0027 - mae: 0.0447 - mse: 0.0027\n",
            "Epoch 215/500\n",
            "1000/1000 [==============================] - 0s 51us/sample - loss: 0.0027 - mae: 0.0447 - mse: 0.0027\n",
            "Epoch 216/500\n",
            "1000/1000 [==============================] - 0s 49us/sample - loss: 0.0027 - mae: 0.0446 - mse: 0.0027\n",
            "Epoch 217/500\n",
            "1000/1000 [==============================] - 0s 50us/sample - loss: 0.0027 - mae: 0.0446 - mse: 0.0027\n",
            "Epoch 218/500\n",
            "1000/1000 [==============================] - 0s 48us/sample - loss: 0.0027 - mae: 0.0446 - mse: 0.0027\n",
            "Epoch 219/500\n",
            "1000/1000 [==============================] - 0s 51us/sample - loss: 0.0027 - mae: 0.0446 - mse: 0.0027\n",
            "Epoch 220/500\n",
            "1000/1000 [==============================] - 0s 46us/sample - loss: 0.0027 - mae: 0.0446 - mse: 0.0027\n",
            "Epoch 221/500\n",
            "1000/1000 [==============================] - 0s 51us/sample - loss: 0.0027 - mae: 0.0446 - mse: 0.0027\n",
            "Epoch 222/500\n",
            "1000/1000 [==============================] - 0s 48us/sample - loss: 0.0027 - mae: 0.0446 - mse: 0.0027\n",
            "Epoch 223/500\n",
            "1000/1000 [==============================] - 0s 47us/sample - loss: 0.0027 - mae: 0.0446 - mse: 0.0027\n",
            "Epoch 224/500\n",
            "1000/1000 [==============================] - 0s 52us/sample - loss: 0.0027 - mae: 0.0446 - mse: 0.0027\n",
            "Epoch 225/500\n",
            "1000/1000 [==============================] - 0s 51us/sample - loss: 0.0027 - mae: 0.0446 - mse: 0.0027\n",
            "Epoch 226/500\n",
            "1000/1000 [==============================] - 0s 50us/sample - loss: 0.0027 - mae: 0.0446 - mse: 0.0027\n",
            "Epoch 227/500\n",
            "1000/1000 [==============================] - 0s 50us/sample - loss: 0.0027 - mae: 0.0446 - mse: 0.0027\n",
            "Epoch 228/500\n",
            "1000/1000 [==============================] - 0s 49us/sample - loss: 0.0027 - mae: 0.0446 - mse: 0.0027\n",
            "Epoch 229/500\n",
            "1000/1000 [==============================] - 0s 50us/sample - loss: 0.0027 - mae: 0.0445 - mse: 0.0027\n",
            "Epoch 230/500\n",
            "1000/1000 [==============================] - 0s 49us/sample - loss: 0.0027 - mae: 0.0445 - mse: 0.0027\n",
            "Epoch 231/500\n",
            "1000/1000 [==============================] - 0s 48us/sample - loss: 0.0027 - mae: 0.0445 - mse: 0.0027\n",
            "Epoch 232/500\n",
            "1000/1000 [==============================] - 0s 48us/sample - loss: 0.0027 - mae: 0.0445 - mse: 0.0027\n",
            "Epoch 233/500\n",
            "1000/1000 [==============================] - 0s 47us/sample - loss: 0.0027 - mae: 0.0445 - mse: 0.0027\n",
            "Epoch 234/500\n",
            "1000/1000 [==============================] - 0s 50us/sample - loss: 0.0027 - mae: 0.0445 - mse: 0.0027\n",
            "Epoch 235/500\n",
            "1000/1000 [==============================] - 0s 50us/sample - loss: 0.0027 - mae: 0.0445 - mse: 0.0027\n",
            "Epoch 236/500\n",
            "1000/1000 [==============================] - 0s 49us/sample - loss: 0.0027 - mae: 0.0445 - mse: 0.0027\n",
            "Epoch 237/500\n",
            "1000/1000 [==============================] - 0s 48us/sample - loss: 0.0027 - mae: 0.0445 - mse: 0.0027\n",
            "Epoch 238/500\n",
            "1000/1000 [==============================] - 0s 48us/sample - loss: 0.0027 - mae: 0.0445 - mse: 0.0027\n",
            "Epoch 239/500\n",
            "1000/1000 [==============================] - 0s 46us/sample - loss: 0.0027 - mae: 0.0445 - mse: 0.0027\n",
            "Epoch 240/500\n",
            "1000/1000 [==============================] - 0s 48us/sample - loss: 0.0027 - mae: 0.0445 - mse: 0.0027\n",
            "Epoch 241/500\n",
            "1000/1000 [==============================] - 0s 50us/sample - loss: 0.0027 - mae: 0.0444 - mse: 0.0027\n",
            "Epoch 242/500\n",
            "1000/1000 [==============================] - 0s 51us/sample - loss: 0.0027 - mae: 0.0444 - mse: 0.0027\n",
            "Epoch 243/500\n",
            "1000/1000 [==============================] - 0s 51us/sample - loss: 0.0027 - mae: 0.0444 - mse: 0.0027\n",
            "Epoch 244/500\n",
            "1000/1000 [==============================] - 0s 51us/sample - loss: 0.0027 - mae: 0.0444 - mse: 0.0027\n",
            "Epoch 245/500\n",
            "1000/1000 [==============================] - 0s 48us/sample - loss: 0.0027 - mae: 0.0444 - mse: 0.0027\n",
            "Epoch 246/500\n",
            "1000/1000 [==============================] - 0s 50us/sample - loss: 0.0027 - mae: 0.0444 - mse: 0.0027\n",
            "Epoch 247/500\n",
            "1000/1000 [==============================] - 0s 51us/sample - loss: 0.0027 - mae: 0.0444 - mse: 0.0027\n",
            "Epoch 248/500\n",
            "1000/1000 [==============================] - 0s 48us/sample - loss: 0.0027 - mae: 0.0444 - mse: 0.0027\n",
            "Epoch 249/500\n",
            "1000/1000 [==============================] - 0s 48us/sample - loss: 0.0027 - mae: 0.0444 - mse: 0.0027\n",
            "Epoch 250/500\n",
            "1000/1000 [==============================] - 0s 47us/sample - loss: 0.0027 - mae: 0.0444 - mse: 0.0027\n",
            "Epoch 251/500\n",
            "1000/1000 [==============================] - 0s 49us/sample - loss: 0.0027 - mae: 0.0444 - mse: 0.0027\n",
            "Epoch 252/500\n",
            "1000/1000 [==============================] - 0s 48us/sample - loss: 0.0027 - mae: 0.0444 - mse: 0.0027\n",
            "Epoch 253/500\n",
            "1000/1000 [==============================] - 0s 48us/sample - loss: 0.0027 - mae: 0.0444 - mse: 0.0027\n",
            "Epoch 254/500\n",
            "1000/1000 [==============================] - 0s 49us/sample - loss: 0.0027 - mae: 0.0443 - mse: 0.0027\n",
            "Epoch 255/500\n",
            "1000/1000 [==============================] - 0s 52us/sample - loss: 0.0027 - mae: 0.0443 - mse: 0.0027\n",
            "Epoch 256/500\n",
            "1000/1000 [==============================] - 0s 54us/sample - loss: 0.0027 - mae: 0.0443 - mse: 0.0027\n",
            "Epoch 257/500\n",
            "1000/1000 [==============================] - 0s 51us/sample - loss: 0.0027 - mae: 0.0443 - mse: 0.0027\n",
            "Epoch 258/500\n",
            "1000/1000 [==============================] - 0s 49us/sample - loss: 0.0027 - mae: 0.0443 - mse: 0.0027\n",
            "Epoch 259/500\n",
            "1000/1000 [==============================] - 0s 49us/sample - loss: 0.0027 - mae: 0.0443 - mse: 0.0027\n",
            "Epoch 260/500\n",
            "1000/1000 [==============================] - 0s 48us/sample - loss: 0.0027 - mae: 0.0443 - mse: 0.0027\n",
            "Epoch 261/500\n",
            "1000/1000 [==============================] - 0s 51us/sample - loss: 0.0027 - mae: 0.0443 - mse: 0.0027\n",
            "Epoch 262/500\n",
            "1000/1000 [==============================] - 0s 47us/sample - loss: 0.0027 - mae: 0.0443 - mse: 0.0027\n",
            "Epoch 263/500\n",
            "1000/1000 [==============================] - 0s 51us/sample - loss: 0.0027 - mae: 0.0443 - mse: 0.0027\n",
            "Epoch 264/500\n",
            "1000/1000 [==============================] - 0s 49us/sample - loss: 0.0027 - mae: 0.0443 - mse: 0.0027\n",
            "Epoch 265/500\n",
            "1000/1000 [==============================] - 0s 47us/sample - loss: 0.0027 - mae: 0.0443 - mse: 0.0027\n",
            "Epoch 266/500\n",
            "1000/1000 [==============================] - 0s 50us/sample - loss: 0.0027 - mae: 0.0442 - mse: 0.0027\n",
            "Epoch 267/500\n",
            "1000/1000 [==============================] - 0s 48us/sample - loss: 0.0027 - mae: 0.0442 - mse: 0.0027\n",
            "Epoch 268/500\n",
            "1000/1000 [==============================] - 0s 47us/sample - loss: 0.0027 - mae: 0.0442 - mse: 0.0027\n",
            "Epoch 269/500\n",
            "1000/1000 [==============================] - 0s 51us/sample - loss: 0.0027 - mae: 0.0442 - mse: 0.0027\n",
            "Epoch 270/500\n",
            "1000/1000 [==============================] - 0s 48us/sample - loss: 0.0027 - mae: 0.0442 - mse: 0.0027\n",
            "Epoch 271/500\n",
            "1000/1000 [==============================] - 0s 48us/sample - loss: 0.0027 - mae: 0.0442 - mse: 0.0027\n",
            "Epoch 272/500\n",
            "1000/1000 [==============================] - 0s 47us/sample - loss: 0.0027 - mae: 0.0442 - mse: 0.0027\n",
            "Epoch 273/500\n",
            "1000/1000 [==============================] - 0s 47us/sample - loss: 0.0027 - mae: 0.0442 - mse: 0.0027\n",
            "Epoch 274/500\n",
            "1000/1000 [==============================] - 0s 47us/sample - loss: 0.0027 - mae: 0.0442 - mse: 0.0027\n",
            "Epoch 275/500\n",
            "1000/1000 [==============================] - 0s 46us/sample - loss: 0.0027 - mae: 0.0442 - mse: 0.0027\n",
            "Epoch 276/500\n",
            "1000/1000 [==============================] - 0s 47us/sample - loss: 0.0027 - mae: 0.0442 - mse: 0.0027\n",
            "Epoch 277/500\n",
            "1000/1000 [==============================] - 0s 48us/sample - loss: 0.0027 - mae: 0.0442 - mse: 0.0027\n",
            "Epoch 278/500\n",
            "1000/1000 [==============================] - 0s 46us/sample - loss: 0.0027 - mae: 0.0442 - mse: 0.0027\n",
            "Epoch 279/500\n",
            "1000/1000 [==============================] - 0s 46us/sample - loss: 0.0027 - mae: 0.0441 - mse: 0.0027\n",
            "Epoch 280/500\n",
            "1000/1000 [==============================] - 0s 46us/sample - loss: 0.0027 - mae: 0.0441 - mse: 0.0027\n",
            "Epoch 281/500\n",
            "1000/1000 [==============================] - 0s 48us/sample - loss: 0.0027 - mae: 0.0441 - mse: 0.0027\n",
            "Epoch 282/500\n",
            "1000/1000 [==============================] - 0s 50us/sample - loss: 0.0027 - mae: 0.0441 - mse: 0.0027\n",
            "Epoch 283/500\n",
            "1000/1000 [==============================] - 0s 46us/sample - loss: 0.0027 - mae: 0.0441 - mse: 0.0027\n",
            "Epoch 284/500\n",
            "1000/1000 [==============================] - 0s 46us/sample - loss: 0.0026 - mae: 0.0441 - mse: 0.0026\n",
            "Epoch 285/500\n",
            "1000/1000 [==============================] - 0s 48us/sample - loss: 0.0026 - mae: 0.0441 - mse: 0.0026\n",
            "Epoch 286/500\n",
            "1000/1000 [==============================] - 0s 46us/sample - loss: 0.0026 - mae: 0.0441 - mse: 0.0026\n",
            "Epoch 287/500\n",
            "1000/1000 [==============================] - 0s 49us/sample - loss: 0.0026 - mae: 0.0441 - mse: 0.0026\n",
            "Epoch 288/500\n",
            "1000/1000 [==============================] - 0s 49us/sample - loss: 0.0026 - mae: 0.0441 - mse: 0.0026\n",
            "Epoch 289/500\n",
            "1000/1000 [==============================] - 0s 48us/sample - loss: 0.0026 - mae: 0.0441 - mse: 0.0026\n",
            "Epoch 290/500\n",
            "1000/1000 [==============================] - 0s 52us/sample - loss: 0.0026 - mae: 0.0441 - mse: 0.0026\n",
            "Epoch 291/500\n",
            "1000/1000 [==============================] - 0s 46us/sample - loss: 0.0026 - mae: 0.0440 - mse: 0.0026\n",
            "Epoch 292/500\n",
            "1000/1000 [==============================] - 0s 47us/sample - loss: 0.0026 - mae: 0.0440 - mse: 0.0026\n",
            "Epoch 293/500\n",
            "1000/1000 [==============================] - 0s 48us/sample - loss: 0.0026 - mae: 0.0440 - mse: 0.0026\n",
            "Epoch 294/500\n",
            "1000/1000 [==============================] - 0s 47us/sample - loss: 0.0026 - mae: 0.0440 - mse: 0.0026\n",
            "Epoch 295/500\n",
            "1000/1000 [==============================] - 0s 48us/sample - loss: 0.0026 - mae: 0.0440 - mse: 0.0026\n",
            "Epoch 296/500\n",
            "1000/1000 [==============================] - 0s 48us/sample - loss: 0.0026 - mae: 0.0440 - mse: 0.0026\n",
            "Epoch 297/500\n",
            "1000/1000 [==============================] - 0s 49us/sample - loss: 0.0026 - mae: 0.0440 - mse: 0.0026\n",
            "Epoch 298/500\n",
            "1000/1000 [==============================] - 0s 49us/sample - loss: 0.0026 - mae: 0.0440 - mse: 0.0026\n",
            "Epoch 299/500\n",
            "1000/1000 [==============================] - 0s 47us/sample - loss: 0.0026 - mae: 0.0440 - mse: 0.0026\n",
            "Epoch 300/500\n",
            "1000/1000 [==============================] - 0s 48us/sample - loss: 0.0026 - mae: 0.0440 - mse: 0.0026\n",
            "Epoch 301/500\n",
            "1000/1000 [==============================] - 0s 49us/sample - loss: 0.0026 - mae: 0.0440 - mse: 0.0026\n",
            "Epoch 302/500\n",
            "1000/1000 [==============================] - 0s 49us/sample - loss: 0.0026 - mae: 0.0440 - mse: 0.0026\n",
            "Epoch 303/500\n",
            "1000/1000 [==============================] - 0s 52us/sample - loss: 0.0026 - mae: 0.0440 - mse: 0.0026\n",
            "Epoch 304/500\n",
            "1000/1000 [==============================] - 0s 48us/sample - loss: 0.0026 - mae: 0.0439 - mse: 0.0026\n",
            "Epoch 305/500\n",
            "1000/1000 [==============================] - 0s 49us/sample - loss: 0.0026 - mae: 0.0439 - mse: 0.0026\n",
            "Epoch 306/500\n",
            "1000/1000 [==============================] - 0s 49us/sample - loss: 0.0026 - mae: 0.0439 - mse: 0.0026\n",
            "Epoch 307/500\n",
            "1000/1000 [==============================] - 0s 55us/sample - loss: 0.0026 - mae: 0.0439 - mse: 0.0026\n",
            "Epoch 308/500\n",
            "1000/1000 [==============================] - 0s 50us/sample - loss: 0.0026 - mae: 0.0439 - mse: 0.0026\n",
            "Epoch 309/500\n",
            "1000/1000 [==============================] - 0s 49us/sample - loss: 0.0026 - mae: 0.0439 - mse: 0.0026\n",
            "Epoch 310/500\n",
            "1000/1000 [==============================] - 0s 49us/sample - loss: 0.0026 - mae: 0.0439 - mse: 0.0026\n",
            "Epoch 311/500\n",
            "1000/1000 [==============================] - 0s 46us/sample - loss: 0.0026 - mae: 0.0439 - mse: 0.0026\n",
            "Epoch 312/500\n",
            "1000/1000 [==============================] - 0s 52us/sample - loss: 0.0026 - mae: 0.0439 - mse: 0.0026\n",
            "Epoch 313/500\n",
            "1000/1000 [==============================] - 0s 46us/sample - loss: 0.0026 - mae: 0.0439 - mse: 0.0026\n",
            "Epoch 314/500\n",
            "1000/1000 [==============================] - 0s 46us/sample - loss: 0.0026 - mae: 0.0439 - mse: 0.0026\n",
            "Epoch 315/500\n",
            "1000/1000 [==============================] - 0s 47us/sample - loss: 0.0026 - mae: 0.0439 - mse: 0.0026\n",
            "Epoch 316/500\n",
            "1000/1000 [==============================] - 0s 46us/sample - loss: 0.0026 - mae: 0.0438 - mse: 0.0026\n",
            "Epoch 317/500\n",
            "1000/1000 [==============================] - 0s 48us/sample - loss: 0.0026 - mae: 0.0438 - mse: 0.0026\n",
            "Epoch 318/500\n",
            "1000/1000 [==============================] - 0s 46us/sample - loss: 0.0026 - mae: 0.0438 - mse: 0.0026\n",
            "Epoch 319/500\n",
            "1000/1000 [==============================] - 0s 46us/sample - loss: 0.0026 - mae: 0.0438 - mse: 0.0026\n",
            "Epoch 320/500\n",
            "1000/1000 [==============================] - 0s 48us/sample - loss: 0.0026 - mae: 0.0438 - mse: 0.0026\n",
            "Epoch 321/500\n",
            "1000/1000 [==============================] - 0s 47us/sample - loss: 0.0026 - mae: 0.0438 - mse: 0.0026\n",
            "Epoch 322/500\n",
            "1000/1000 [==============================] - 0s 51us/sample - loss: 0.0026 - mae: 0.0438 - mse: 0.0026\n",
            "Epoch 323/500\n",
            "1000/1000 [==============================] - 0s 51us/sample - loss: 0.0026 - mae: 0.0438 - mse: 0.0026\n",
            "Epoch 324/500\n",
            "1000/1000 [==============================] - 0s 51us/sample - loss: 0.0026 - mae: 0.0438 - mse: 0.0026\n",
            "Epoch 325/500\n",
            "1000/1000 [==============================] - 0s 49us/sample - loss: 0.0026 - mae: 0.0438 - mse: 0.0026\n",
            "Epoch 326/500\n",
            "1000/1000 [==============================] - 0s 48us/sample - loss: 0.0026 - mae: 0.0438 - mse: 0.0026\n",
            "Epoch 327/500\n",
            "1000/1000 [==============================] - 0s 53us/sample - loss: 0.0026 - mae: 0.0438 - mse: 0.0026\n",
            "Epoch 328/500\n",
            "1000/1000 [==============================] - 0s 47us/sample - loss: 0.0026 - mae: 0.0437 - mse: 0.0026\n",
            "Epoch 329/500\n",
            "1000/1000 [==============================] - 0s 49us/sample - loss: 0.0026 - mae: 0.0437 - mse: 0.0026\n",
            "Epoch 330/500\n",
            "1000/1000 [==============================] - 0s 48us/sample - loss: 0.0026 - mae: 0.0437 - mse: 0.0026\n",
            "Epoch 331/500\n",
            "1000/1000 [==============================] - 0s 48us/sample - loss: 0.0026 - mae: 0.0437 - mse: 0.0026\n",
            "Epoch 332/500\n",
            "1000/1000 [==============================] - 0s 53us/sample - loss: 0.0026 - mae: 0.0437 - mse: 0.0026\n",
            "Epoch 333/500\n",
            "1000/1000 [==============================] - 0s 49us/sample - loss: 0.0026 - mae: 0.0437 - mse: 0.0026\n",
            "Epoch 334/500\n",
            "1000/1000 [==============================] - 0s 49us/sample - loss: 0.0026 - mae: 0.0437 - mse: 0.0026\n",
            "Epoch 335/500\n",
            "1000/1000 [==============================] - 0s 47us/sample - loss: 0.0026 - mae: 0.0437 - mse: 0.0026\n",
            "Epoch 336/500\n",
            "1000/1000 [==============================] - 0s 48us/sample - loss: 0.0026 - mae: 0.0437 - mse: 0.0026\n",
            "Epoch 337/500\n",
            "1000/1000 [==============================] - 0s 50us/sample - loss: 0.0026 - mae: 0.0437 - mse: 0.0026\n",
            "Epoch 338/500\n",
            "1000/1000 [==============================] - 0s 52us/sample - loss: 0.0026 - mae: 0.0437 - mse: 0.0026\n",
            "Epoch 339/500\n",
            "1000/1000 [==============================] - 0s 50us/sample - loss: 0.0026 - mae: 0.0437 - mse: 0.0026\n",
            "Epoch 340/500\n",
            "1000/1000 [==============================] - 0s 50us/sample - loss: 0.0026 - mae: 0.0437 - mse: 0.0026\n",
            "Epoch 341/500\n",
            "1000/1000 [==============================] - 0s 49us/sample - loss: 0.0026 - mae: 0.0436 - mse: 0.0026\n",
            "Epoch 342/500\n",
            "1000/1000 [==============================] - 0s 48us/sample - loss: 0.0026 - mae: 0.0436 - mse: 0.0026\n",
            "Epoch 343/500\n",
            "1000/1000 [==============================] - 0s 53us/sample - loss: 0.0026 - mae: 0.0436 - mse: 0.0026\n",
            "Epoch 344/500\n",
            "1000/1000 [==============================] - 0s 53us/sample - loss: 0.0026 - mae: 0.0436 - mse: 0.0026\n",
            "Epoch 345/500\n",
            "1000/1000 [==============================] - 0s 47us/sample - loss: 0.0026 - mae: 0.0436 - mse: 0.0026\n",
            "Epoch 346/500\n",
            "1000/1000 [==============================] - 0s 47us/sample - loss: 0.0026 - mae: 0.0436 - mse: 0.0026\n",
            "Epoch 347/500\n",
            "1000/1000 [==============================] - 0s 53us/sample - loss: 0.0026 - mae: 0.0436 - mse: 0.0026\n",
            "Epoch 348/500\n",
            "1000/1000 [==============================] - 0s 49us/sample - loss: 0.0026 - mae: 0.0436 - mse: 0.0026\n",
            "Epoch 349/500\n",
            "1000/1000 [==============================] - 0s 51us/sample - loss: 0.0026 - mae: 0.0436 - mse: 0.0026\n",
            "Epoch 350/500\n",
            "1000/1000 [==============================] - 0s 51us/sample - loss: 0.0026 - mae: 0.0436 - mse: 0.0026\n",
            "Epoch 351/500\n",
            "1000/1000 [==============================] - 0s 50us/sample - loss: 0.0026 - mae: 0.0436 - mse: 0.0026\n",
            "Epoch 352/500\n",
            "1000/1000 [==============================] - 0s 48us/sample - loss: 0.0026 - mae: 0.0436 - mse: 0.0026\n",
            "Epoch 353/500\n",
            "1000/1000 [==============================] - 0s 52us/sample - loss: 0.0026 - mae: 0.0435 - mse: 0.0026\n",
            "Epoch 354/500\n",
            "1000/1000 [==============================] - 0s 49us/sample - loss: 0.0026 - mae: 0.0435 - mse: 0.0026\n",
            "Epoch 355/500\n",
            "1000/1000 [==============================] - 0s 49us/sample - loss: 0.0026 - mae: 0.0435 - mse: 0.0026\n",
            "Epoch 356/500\n",
            "1000/1000 [==============================] - 0s 52us/sample - loss: 0.0026 - mae: 0.0435 - mse: 0.0026\n",
            "Epoch 357/500\n",
            "1000/1000 [==============================] - 0s 52us/sample - loss: 0.0026 - mae: 0.0435 - mse: 0.0026\n",
            "Epoch 358/500\n",
            "1000/1000 [==============================] - 0s 50us/sample - loss: 0.0026 - mae: 0.0435 - mse: 0.0026\n",
            "Epoch 359/500\n",
            "1000/1000 [==============================] - 0s 46us/sample - loss: 0.0026 - mae: 0.0435 - mse: 0.0026\n",
            "Epoch 360/500\n",
            "1000/1000 [==============================] - 0s 47us/sample - loss: 0.0026 - mae: 0.0435 - mse: 0.0026\n",
            "Epoch 361/500\n",
            "1000/1000 [==============================] - 0s 55us/sample - loss: 0.0026 - mae: 0.0435 - mse: 0.0026\n",
            "Epoch 362/500\n",
            "1000/1000 [==============================] - 0s 49us/sample - loss: 0.0026 - mae: 0.0435 - mse: 0.0026\n",
            "Epoch 363/500\n",
            "1000/1000 [==============================] - 0s 48us/sample - loss: 0.0026 - mae: 0.0435 - mse: 0.0026\n",
            "Epoch 364/500\n",
            "1000/1000 [==============================] - 0s 47us/sample - loss: 0.0026 - mae: 0.0435 - mse: 0.0026\n",
            "Epoch 365/500\n",
            "1000/1000 [==============================] - 0s 49us/sample - loss: 0.0026 - mae: 0.0435 - mse: 0.0026\n",
            "Epoch 366/500\n",
            "1000/1000 [==============================] - 0s 49us/sample - loss: 0.0026 - mae: 0.0434 - mse: 0.0026\n",
            "Epoch 367/500\n",
            "1000/1000 [==============================] - 0s 51us/sample - loss: 0.0026 - mae: 0.0434 - mse: 0.0026\n",
            "Epoch 368/500\n",
            "1000/1000 [==============================] - 0s 48us/sample - loss: 0.0026 - mae: 0.0434 - mse: 0.0026\n",
            "Epoch 369/500\n",
            "1000/1000 [==============================] - 0s 49us/sample - loss: 0.0026 - mae: 0.0434 - mse: 0.0026\n",
            "Epoch 370/500\n",
            "1000/1000 [==============================] - 0s 49us/sample - loss: 0.0026 - mae: 0.0434 - mse: 0.0026\n",
            "Epoch 371/500\n",
            "1000/1000 [==============================] - 0s 49us/sample - loss: 0.0026 - mae: 0.0434 - mse: 0.0026\n",
            "Epoch 372/500\n",
            "1000/1000 [==============================] - 0s 50us/sample - loss: 0.0026 - mae: 0.0434 - mse: 0.0026\n",
            "Epoch 373/500\n",
            "1000/1000 [==============================] - 0s 48us/sample - loss: 0.0026 - mae: 0.0434 - mse: 0.0026\n",
            "Epoch 374/500\n",
            "1000/1000 [==============================] - 0s 49us/sample - loss: 0.0026 - mae: 0.0434 - mse: 0.0026\n",
            "Epoch 375/500\n",
            "1000/1000 [==============================] - 0s 52us/sample - loss: 0.0026 - mae: 0.0434 - mse: 0.0026\n",
            "Epoch 376/500\n",
            "1000/1000 [==============================] - 0s 48us/sample - loss: 0.0026 - mae: 0.0434 - mse: 0.0026\n",
            "Epoch 377/500\n",
            "1000/1000 [==============================] - 0s 51us/sample - loss: 0.0026 - mae: 0.0434 - mse: 0.0026\n",
            "Epoch 378/500\n",
            "1000/1000 [==============================] - 0s 50us/sample - loss: 0.0026 - mae: 0.0433 - mse: 0.0026\n",
            "Epoch 379/500\n",
            "1000/1000 [==============================] - 0s 48us/sample - loss: 0.0026 - mae: 0.0433 - mse: 0.0026\n",
            "Epoch 380/500\n",
            "1000/1000 [==============================] - 0s 50us/sample - loss: 0.0026 - mae: 0.0433 - mse: 0.0026\n",
            "Epoch 381/500\n",
            "1000/1000 [==============================] - 0s 49us/sample - loss: 0.0026 - mae: 0.0433 - mse: 0.0026\n",
            "Epoch 382/500\n",
            "1000/1000 [==============================] - 0s 49us/sample - loss: 0.0026 - mae: 0.0433 - mse: 0.0026\n",
            "Epoch 383/500\n",
            "1000/1000 [==============================] - 0s 51us/sample - loss: 0.0026 - mae: 0.0433 - mse: 0.0026\n",
            "Epoch 384/500\n",
            "1000/1000 [==============================] - 0s 49us/sample - loss: 0.0026 - mae: 0.0433 - mse: 0.0026\n",
            "Epoch 385/500\n",
            "1000/1000 [==============================] - 0s 48us/sample - loss: 0.0026 - mae: 0.0433 - mse: 0.0026\n",
            "Epoch 386/500\n",
            "1000/1000 [==============================] - 0s 49us/sample - loss: 0.0025 - mae: 0.0433 - mse: 0.0025\n",
            "Epoch 387/500\n",
            "1000/1000 [==============================] - 0s 50us/sample - loss: 0.0025 - mae: 0.0433 - mse: 0.0025\n",
            "Epoch 388/500\n",
            "1000/1000 [==============================] - 0s 48us/sample - loss: 0.0025 - mae: 0.0433 - mse: 0.0025\n",
            "Epoch 389/500\n",
            "1000/1000 [==============================] - 0s 50us/sample - loss: 0.0025 - mae: 0.0433 - mse: 0.0025\n",
            "Epoch 390/500\n",
            "1000/1000 [==============================] - 0s 48us/sample - loss: 0.0025 - mae: 0.0433 - mse: 0.0025\n",
            "Epoch 391/500\n",
            "1000/1000 [==============================] - 0s 51us/sample - loss: 0.0025 - mae: 0.0432 - mse: 0.0025\n",
            "Epoch 392/500\n",
            "1000/1000 [==============================] - 0s 53us/sample - loss: 0.0025 - mae: 0.0432 - mse: 0.0025\n",
            "Epoch 393/500\n",
            "1000/1000 [==============================] - 0s 47us/sample - loss: 0.0025 - mae: 0.0432 - mse: 0.0025\n",
            "Epoch 394/500\n",
            "1000/1000 [==============================] - 0s 49us/sample - loss: 0.0025 - mae: 0.0432 - mse: 0.0025\n",
            "Epoch 395/500\n",
            "1000/1000 [==============================] - 0s 57us/sample - loss: 0.0025 - mae: 0.0432 - mse: 0.0025\n",
            "Epoch 396/500\n",
            "1000/1000 [==============================] - 0s 58us/sample - loss: 0.0025 - mae: 0.0432 - mse: 0.0025\n",
            "Epoch 397/500\n",
            "1000/1000 [==============================] - 0s 53us/sample - loss: 0.0025 - mae: 0.0432 - mse: 0.0025\n",
            "Epoch 398/500\n",
            "1000/1000 [==============================] - 0s 53us/sample - loss: 0.0025 - mae: 0.0432 - mse: 0.0025\n",
            "Epoch 399/500\n",
            "1000/1000 [==============================] - 0s 52us/sample - loss: 0.0025 - mae: 0.0432 - mse: 0.0025\n",
            "Epoch 400/500\n",
            "1000/1000 [==============================] - 0s 54us/sample - loss: 0.0025 - mae: 0.0432 - mse: 0.0025\n",
            "Epoch 401/500\n",
            "1000/1000 [==============================] - 0s 53us/sample - loss: 0.0025 - mae: 0.0432 - mse: 0.0025\n",
            "Epoch 402/500\n",
            "1000/1000 [==============================] - 0s 56us/sample - loss: 0.0025 - mae: 0.0432 - mse: 0.0025\n",
            "Epoch 403/500\n",
            "1000/1000 [==============================] - 0s 47us/sample - loss: 0.0025 - mae: 0.0431 - mse: 0.0025\n",
            "Epoch 404/500\n",
            "1000/1000 [==============================] - 0s 46us/sample - loss: 0.0025 - mae: 0.0431 - mse: 0.0025\n",
            "Epoch 405/500\n",
            "1000/1000 [==============================] - 0s 47us/sample - loss: 0.0025 - mae: 0.0431 - mse: 0.0025\n",
            "Epoch 406/500\n",
            "1000/1000 [==============================] - 0s 53us/sample - loss: 0.0025 - mae: 0.0431 - mse: 0.0025\n",
            "Epoch 407/500\n",
            "1000/1000 [==============================] - 0s 50us/sample - loss: 0.0025 - mae: 0.0431 - mse: 0.0025\n",
            "Epoch 408/500\n",
            "1000/1000 [==============================] - 0s 47us/sample - loss: 0.0025 - mae: 0.0431 - mse: 0.0025\n",
            "Epoch 409/500\n",
            "1000/1000 [==============================] - 0s 49us/sample - loss: 0.0025 - mae: 0.0431 - mse: 0.0025\n",
            "Epoch 410/500\n",
            "1000/1000 [==============================] - 0s 49us/sample - loss: 0.0025 - mae: 0.0431 - mse: 0.0025\n",
            "Epoch 411/500\n",
            "1000/1000 [==============================] - 0s 50us/sample - loss: 0.0025 - mae: 0.0431 - mse: 0.0025\n",
            "Epoch 412/500\n",
            "1000/1000 [==============================] - 0s 48us/sample - loss: 0.0025 - mae: 0.0431 - mse: 0.0025\n",
            "Epoch 413/500\n",
            "1000/1000 [==============================] - 0s 50us/sample - loss: 0.0025 - mae: 0.0431 - mse: 0.0025\n",
            "Epoch 414/500\n",
            "1000/1000 [==============================] - 0s 48us/sample - loss: 0.0025 - mae: 0.0431 - mse: 0.0025\n",
            "Epoch 415/500\n",
            "1000/1000 [==============================] - 0s 51us/sample - loss: 0.0025 - mae: 0.0431 - mse: 0.0025\n",
            "Epoch 416/500\n",
            "1000/1000 [==============================] - 0s 51us/sample - loss: 0.0025 - mae: 0.0430 - mse: 0.0025\n",
            "Epoch 417/500\n",
            "1000/1000 [==============================] - 0s 47us/sample - loss: 0.0025 - mae: 0.0430 - mse: 0.0025\n",
            "Epoch 418/500\n",
            "1000/1000 [==============================] - 0s 50us/sample - loss: 0.0025 - mae: 0.0430 - mse: 0.0025\n",
            "Epoch 419/500\n",
            "1000/1000 [==============================] - 0s 51us/sample - loss: 0.0025 - mae: 0.0430 - mse: 0.0025\n",
            "Epoch 420/500\n",
            "1000/1000 [==============================] - 0s 48us/sample - loss: 0.0025 - mae: 0.0430 - mse: 0.0025\n",
            "Epoch 421/500\n",
            "1000/1000 [==============================] - 0s 49us/sample - loss: 0.0025 - mae: 0.0430 - mse: 0.0025\n",
            "Epoch 422/500\n",
            "1000/1000 [==============================] - 0s 51us/sample - loss: 0.0025 - mae: 0.0430 - mse: 0.0025\n",
            "Epoch 423/500\n",
            "1000/1000 [==============================] - 0s 54us/sample - loss: 0.0025 - mae: 0.0430 - mse: 0.0025\n",
            "Epoch 424/500\n",
            "1000/1000 [==============================] - 0s 59us/sample - loss: 0.0025 - mae: 0.0430 - mse: 0.0025\n",
            "Epoch 425/500\n",
            "1000/1000 [==============================] - 0s 56us/sample - loss: 0.0025 - mae: 0.0430 - mse: 0.0025\n",
            "Epoch 426/500\n",
            "1000/1000 [==============================] - 0s 54us/sample - loss: 0.0025 - mae: 0.0430 - mse: 0.0025\n",
            "Epoch 427/500\n",
            "1000/1000 [==============================] - 0s 59us/sample - loss: 0.0025 - mae: 0.0430 - mse: 0.0025\n",
            "Epoch 428/500\n",
            "1000/1000 [==============================] - 0s 53us/sample - loss: 0.0025 - mae: 0.0429 - mse: 0.0025\n",
            "Epoch 429/500\n",
            "1000/1000 [==============================] - 0s 55us/sample - loss: 0.0025 - mae: 0.0429 - mse: 0.0025\n",
            "Epoch 430/500\n",
            "1000/1000 [==============================] - 0s 58us/sample - loss: 0.0025 - mae: 0.0429 - mse: 0.0025\n",
            "Epoch 431/500\n",
            "1000/1000 [==============================] - 0s 55us/sample - loss: 0.0025 - mae: 0.0429 - mse: 0.0025\n",
            "Epoch 432/500\n",
            "1000/1000 [==============================] - 0s 53us/sample - loss: 0.0025 - mae: 0.0429 - mse: 0.0025\n",
            "Epoch 433/500\n",
            "1000/1000 [==============================] - 0s 53us/sample - loss: 0.0025 - mae: 0.0429 - mse: 0.0025\n",
            "Epoch 434/500\n",
            "1000/1000 [==============================] - 0s 59us/sample - loss: 0.0025 - mae: 0.0429 - mse: 0.0025\n",
            "Epoch 435/500\n",
            "1000/1000 [==============================] - 0s 52us/sample - loss: 0.0025 - mae: 0.0429 - mse: 0.0025\n",
            "Epoch 436/500\n",
            "1000/1000 [==============================] - 0s 54us/sample - loss: 0.0025 - mae: 0.0429 - mse: 0.0025\n",
            "Epoch 437/500\n",
            "1000/1000 [==============================] - 0s 52us/sample - loss: 0.0025 - mae: 0.0429 - mse: 0.0025\n",
            "Epoch 438/500\n",
            "1000/1000 [==============================] - 0s 50us/sample - loss: 0.0025 - mae: 0.0429 - mse: 0.0025\n",
            "Epoch 439/500\n",
            "1000/1000 [==============================] - 0s 46us/sample - loss: 0.0025 - mae: 0.0429 - mse: 0.0025\n",
            "Epoch 440/500\n",
            "1000/1000 [==============================] - 0s 49us/sample - loss: 0.0025 - mae: 0.0428 - mse: 0.0025\n",
            "Epoch 441/500\n",
            "1000/1000 [==============================] - 0s 49us/sample - loss: 0.0025 - mae: 0.0428 - mse: 0.0025\n",
            "Epoch 442/500\n",
            "1000/1000 [==============================] - 0s 49us/sample - loss: 0.0025 - mae: 0.0428 - mse: 0.0025\n",
            "Epoch 443/500\n",
            "1000/1000 [==============================] - 0s 49us/sample - loss: 0.0025 - mae: 0.0428 - mse: 0.0025\n",
            "Epoch 444/500\n",
            "1000/1000 [==============================] - 0s 48us/sample - loss: 0.0025 - mae: 0.0428 - mse: 0.0025\n",
            "Epoch 445/500\n",
            "1000/1000 [==============================] - 0s 49us/sample - loss: 0.0025 - mae: 0.0428 - mse: 0.0025\n",
            "Epoch 446/500\n",
            "1000/1000 [==============================] - 0s 49us/sample - loss: 0.0025 - mae: 0.0428 - mse: 0.0025\n",
            "Epoch 447/500\n",
            "1000/1000 [==============================] - 0s 49us/sample - loss: 0.0025 - mae: 0.0428 - mse: 0.0025\n",
            "Epoch 448/500\n",
            "1000/1000 [==============================] - 0s 49us/sample - loss: 0.0025 - mae: 0.0428 - mse: 0.0025\n",
            "Epoch 449/500\n",
            "1000/1000 [==============================] - 0s 51us/sample - loss: 0.0025 - mae: 0.0428 - mse: 0.0025\n",
            "Epoch 450/500\n",
            "1000/1000 [==============================] - 0s 49us/sample - loss: 0.0025 - mae: 0.0428 - mse: 0.0025\n",
            "Epoch 451/500\n",
            "1000/1000 [==============================] - 0s 48us/sample - loss: 0.0025 - mae: 0.0428 - mse: 0.0025\n",
            "Epoch 452/500\n",
            "1000/1000 [==============================] - 0s 51us/sample - loss: 0.0025 - mae: 0.0427 - mse: 0.0025\n",
            "Epoch 453/500\n",
            "1000/1000 [==============================] - 0s 51us/sample - loss: 0.0025 - mae: 0.0427 - mse: 0.0025\n",
            "Epoch 454/500\n",
            "1000/1000 [==============================] - 0s 48us/sample - loss: 0.0025 - mae: 0.0427 - mse: 0.0025\n",
            "Epoch 455/500\n",
            "1000/1000 [==============================] - 0s 49us/sample - loss: 0.0025 - mae: 0.0427 - mse: 0.0025\n",
            "Epoch 456/500\n",
            "1000/1000 [==============================] - 0s 50us/sample - loss: 0.0025 - mae: 0.0427 - mse: 0.0025\n",
            "Epoch 457/500\n",
            "1000/1000 [==============================] - 0s 48us/sample - loss: 0.0025 - mae: 0.0427 - mse: 0.0025\n",
            "Epoch 458/500\n",
            "1000/1000 [==============================] - 0s 48us/sample - loss: 0.0025 - mae: 0.0427 - mse: 0.0025\n",
            "Epoch 459/500\n",
            "1000/1000 [==============================] - 0s 53us/sample - loss: 0.0025 - mae: 0.0427 - mse: 0.0025\n",
            "Epoch 460/500\n",
            "1000/1000 [==============================] - 0s 49us/sample - loss: 0.0025 - mae: 0.0427 - mse: 0.0025\n",
            "Epoch 461/500\n",
            "1000/1000 [==============================] - 0s 48us/sample - loss: 0.0025 - mae: 0.0427 - mse: 0.0025\n",
            "Epoch 462/500\n",
            "1000/1000 [==============================] - 0s 49us/sample - loss: 0.0025 - mae: 0.0427 - mse: 0.0025\n",
            "Epoch 463/500\n",
            "1000/1000 [==============================] - 0s 50us/sample - loss: 0.0025 - mae: 0.0427 - mse: 0.0025\n",
            "Epoch 464/500\n",
            "1000/1000 [==============================] - 0s 48us/sample - loss: 0.0025 - mae: 0.0427 - mse: 0.0025\n",
            "Epoch 465/500\n",
            "1000/1000 [==============================] - 0s 49us/sample - loss: 0.0025 - mae: 0.0426 - mse: 0.0025\n",
            "Epoch 466/500\n",
            "1000/1000 [==============================] - 0s 51us/sample - loss: 0.0025 - mae: 0.0426 - mse: 0.0025\n",
            "Epoch 467/500\n",
            "1000/1000 [==============================] - 0s 49us/sample - loss: 0.0025 - mae: 0.0426 - mse: 0.0025\n",
            "Epoch 468/500\n",
            "1000/1000 [==============================] - 0s 51us/sample - loss: 0.0025 - mae: 0.0426 - mse: 0.0025\n",
            "Epoch 469/500\n",
            "1000/1000 [==============================] - 0s 47us/sample - loss: 0.0025 - mae: 0.0426 - mse: 0.0025\n",
            "Epoch 470/500\n",
            "1000/1000 [==============================] - 0s 49us/sample - loss: 0.0025 - mae: 0.0426 - mse: 0.0025\n",
            "Epoch 471/500\n",
            "1000/1000 [==============================] - 0s 50us/sample - loss: 0.0025 - mae: 0.0426 - mse: 0.0025\n",
            "Epoch 472/500\n",
            "1000/1000 [==============================] - 0s 49us/sample - loss: 0.0025 - mae: 0.0426 - mse: 0.0025\n",
            "Epoch 473/500\n",
            "1000/1000 [==============================] - 0s 49us/sample - loss: 0.0025 - mae: 0.0426 - mse: 0.0025\n",
            "Epoch 474/500\n",
            "1000/1000 [==============================] - 0s 51us/sample - loss: 0.0025 - mae: 0.0426 - mse: 0.0025\n",
            "Epoch 475/500\n",
            "1000/1000 [==============================] - 0s 49us/sample - loss: 0.0025 - mae: 0.0426 - mse: 0.0025\n",
            "Epoch 476/500\n",
            "1000/1000 [==============================] - 0s 49us/sample - loss: 0.0025 - mae: 0.0426 - mse: 0.0025\n",
            "Epoch 477/500\n",
            "1000/1000 [==============================] - 0s 48us/sample - loss: 0.0025 - mae: 0.0425 - mse: 0.0025\n",
            "Epoch 478/500\n",
            "1000/1000 [==============================] - 0s 49us/sample - loss: 0.0025 - mae: 0.0425 - mse: 0.0025\n",
            "Epoch 479/500\n",
            "1000/1000 [==============================] - 0s 48us/sample - loss: 0.0025 - mae: 0.0425 - mse: 0.0025\n",
            "Epoch 480/500\n",
            "1000/1000 [==============================] - 0s 54us/sample - loss: 0.0025 - mae: 0.0425 - mse: 0.0025\n",
            "Epoch 481/500\n",
            "1000/1000 [==============================] - 0s 49us/sample - loss: 0.0025 - mae: 0.0425 - mse: 0.0025\n",
            "Epoch 482/500\n",
            "1000/1000 [==============================] - 0s 48us/sample - loss: 0.0025 - mae: 0.0425 - mse: 0.0025\n",
            "Epoch 483/500\n",
            "1000/1000 [==============================] - 0s 50us/sample - loss: 0.0025 - mae: 0.0425 - mse: 0.0025\n",
            "Epoch 484/500\n",
            "1000/1000 [==============================] - 0s 51us/sample - loss: 0.0025 - mae: 0.0425 - mse: 0.0025\n",
            "Epoch 485/500\n",
            "1000/1000 [==============================] - 0s 52us/sample - loss: 0.0025 - mae: 0.0425 - mse: 0.0025\n",
            "Epoch 486/500\n",
            "1000/1000 [==============================] - 0s 48us/sample - loss: 0.0025 - mae: 0.0425 - mse: 0.0025\n",
            "Epoch 487/500\n",
            "1000/1000 [==============================] - 0s 50us/sample - loss: 0.0025 - mae: 0.0425 - mse: 0.0025\n",
            "Epoch 488/500\n",
            "1000/1000 [==============================] - 0s 47us/sample - loss: 0.0025 - mae: 0.0425 - mse: 0.0025\n",
            "Epoch 489/500\n",
            "1000/1000 [==============================] - 0s 48us/sample - loss: 0.0025 - mae: 0.0424 - mse: 0.0025\n",
            "Epoch 490/500\n",
            "1000/1000 [==============================] - 0s 48us/sample - loss: 0.0024 - mae: 0.0424 - mse: 0.0024\n",
            "Epoch 491/500\n",
            "1000/1000 [==============================] - 0s 48us/sample - loss: 0.0024 - mae: 0.0424 - mse: 0.0024\n",
            "Epoch 492/500\n",
            "1000/1000 [==============================] - 0s 48us/sample - loss: 0.0024 - mae: 0.0424 - mse: 0.0024\n",
            "Epoch 493/500\n",
            "1000/1000 [==============================] - 0s 51us/sample - loss: 0.0024 - mae: 0.0424 - mse: 0.0024\n",
            "Epoch 494/500\n",
            "1000/1000 [==============================] - 0s 48us/sample - loss: 0.0024 - mae: 0.0424 - mse: 0.0024\n",
            "Epoch 495/500\n",
            "1000/1000 [==============================] - 0s 50us/sample - loss: 0.0024 - mae: 0.0424 - mse: 0.0024\n",
            "Epoch 496/500\n",
            "1000/1000 [==============================] - 0s 51us/sample - loss: 0.0024 - mae: 0.0424 - mse: 0.0024\n",
            "Epoch 497/500\n",
            "1000/1000 [==============================] - 0s 55us/sample - loss: 0.0024 - mae: 0.0424 - mse: 0.0024\n",
            "Epoch 498/500\n",
            "1000/1000 [==============================] - 0s 51us/sample - loss: 0.0024 - mae: 0.0424 - mse: 0.0024\n",
            "Epoch 499/500\n",
            "1000/1000 [==============================] - 0s 48us/sample - loss: 0.0024 - mae: 0.0424 - mse: 0.0024\n",
            "Epoch 500/500\n",
            "1000/1000 [==============================] - 0s 47us/sample - loss: 0.0024 - mae: 0.0424 - mse: 0.0024\n"
          ],
          "name": "stdout"
        }
      ]
    },
    {
      "cell_type": "code",
      "metadata": {
        "id": "GsZy-G9mT4yi"
      },
      "source": [
        "import matplotlib.pyplot as plt"
      ],
      "execution_count": null,
      "outputs": []
    },
    {
      "cell_type": "code",
      "metadata": {
        "id": "S3gnAl3cT4yi"
      },
      "source": [
        "import seaborn as sns"
      ],
      "execution_count": null,
      "outputs": []
    },
    {
      "cell_type": "code",
      "metadata": {
        "id": "EcJj4yyJT4yi",
        "outputId": "7a45d3fd-dcab-4a26-e0f2-736589e2c5c6"
      },
      "source": [
        "sns.lineplot(x=[i for i in range(500)], y=results.history['loss']);"
      ],
      "execution_count": null,
      "outputs": [
        {
          "output_type": "display_data",
          "data": {
            "image/png": "[encoded data removed]",
            "text/plain": [
              "<Figure size 432x288 with 1 Axes>"
            ]
          },
          "metadata": {
            "tags": [],
            "needs_background": "light"
          }
        }
      ]
    },
    {
      "cell_type": "code",
      "metadata": {
        "id": "VaRm2w2KT4yj"
      },
      "source": [
        ""
      ],
      "execution_count": null,
      "outputs": []
    }
  ]
}